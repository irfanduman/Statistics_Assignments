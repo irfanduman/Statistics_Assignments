{
 "cells": [
  {
   "cell_type": "code",
   "execution_count": 1,
   "id": "081be720",
   "metadata": {},
   "outputs": [],
   "source": [
    "import numpy as np\n",
    "from scipy import stats\n",
    "import matplotlib.pyplot as plt\n",
    "import seaborn as sns\n",
    "import pandas as pd"
   ]
  },
  {
   "cell_type": "markdown",
   "id": "594157bf",
   "metadata": {},
   "source": [
    "### EXERCISE 1.\n",
    "\n",
    "What is the normal body temperature for healthy humans? A random sample of 130 healthy human body temperatures provided by Allen Shoemaker yielded 98.25 degrees and standard deviation 0.73 degrees. \n",
    "\n",
    "Give a 99% confidence interval for the average body temperature of healthy people."
   ]
  },
  {
   "cell_type": "code",
   "execution_count": 14,
   "id": "e66e643f",
   "metadata": {},
   "outputs": [
    {
     "data": {
      "text/plain": [
       "(98.08260738705933, 98.41739261294067)"
      ]
     },
     "execution_count": 14,
     "metadata": {},
     "output_type": "execute_result"
    }
   ],
   "source": [
    "# Short Method with t-distribution\n",
    "\n",
    "n = 130\n",
    "xbar = 98.25\n",
    "s = 0.73\n",
    "sem = s / np.sqrt(n)\n",
    "\n",
    "\n",
    "stats.t.interval(confidence=0.99, df=n-1, loc=xbar, scale=sem)"
   ]
  },
  {
   "cell_type": "code",
   "execution_count": 15,
   "id": "de597a76",
   "metadata": {},
   "outputs": [
    {
     "name": "stdout",
     "output_type": "stream",
     "text": [
      "Lower Limit: 98.08507099358535\n",
      "Upper Limit: 98.41492900641465\n"
     ]
    }
   ],
   "source": [
    "# Long Method with z-distribution\n",
    "n = 130\n",
    "xbar = 98.25\n",
    "s = 0.73\n",
    "sem = s / np.sqrt(n)\n",
    "\n",
    "moe = 2.576 * sem  # (z-value for 99% is 2.576)\n",
    "moe\n",
    "\n",
    "lower_limit = xbar - moe\n",
    "print(f\"Lower Limit: {lower_limit}\")\n",
    "\n",
    "upper_limit = xbar + moe\n",
    "print(f\"Upper Limit: {upper_limit}\")"
   ]
  },
  {
   "cell_type": "code",
   "execution_count": null,
   "id": "9fe2584a",
   "metadata": {},
   "outputs": [],
   "source": []
  },
  {
   "cell_type": "markdown",
   "id": "39566214",
   "metadata": {},
   "source": [
    "## EXERCISE 2.\n",
    "The administrators for a hospital wished to estimate the average number of days required for inpatient treatment of patients between the ages of 25 and 34. A random sample of 500 hospital patients between these ages produced a mean and standard deviation equal to 5.4 and 3.1 days, respectively.\n",
    "\n",
    "Construct a 95% confidence interval for the mean length of stay for the population of patients from which the sample was drawn."
   ]
  },
  {
   "cell_type": "code",
   "execution_count": 16,
   "id": "2e817a65",
   "metadata": {},
   "outputs": [
    {
     "data": {
      "text/plain": [
       "(5.127617354510309, 5.672382645489692)"
      ]
     },
     "execution_count": 16,
     "metadata": {},
     "output_type": "execute_result"
    }
   ],
   "source": [
    "# Short Method with t-distribution\n",
    "\n",
    "n = 500\n",
    "xbar = 5.4\n",
    "s = 3.1\n",
    "sem = s / np.sqrt(n)\n",
    "\n",
    "stats.t.interval(confidence=0.95, df=n-1, loc=xbar, scale=sem)"
   ]
  },
  {
   "cell_type": "code",
   "execution_count": 17,
   "id": "db0a0096",
   "metadata": {},
   "outputs": [
    {
     "name": "stdout",
     "output_type": "stream",
     "text": [
      "Lower Limit: 5.128273019374226\n",
      "Upper Limit: 5.671726980625775\n"
     ]
    }
   ],
   "source": [
    "# Long Method with z-distribution\n",
    "\n",
    "n = 500\n",
    "xbar = 5.4\n",
    "s = 3.1\n",
    "sem = s / np.sqrt(n)\n",
    "\n",
    "moe = 1.96 * sem  # (z-value for 95% is 1.96)\n",
    "moe\n",
    "\n",
    "lower_limit = xbar - moe\n",
    "print(f\"Lower Limit: {lower_limit}\")\n",
    "\n",
    "upper_limit = xbar + moe\n",
    "print(f\"Upper Limit: {upper_limit}\")"
   ]
  },
  {
   "cell_type": "markdown",
   "id": "e0a36828",
   "metadata": {},
   "source": [
    "# HYPOTHESIS TESTING"
   ]
  },
  {
   "cell_type": "markdown",
   "id": "0bac703c",
   "metadata": {},
   "source": [
    "### EXERCISE 3.\n",
    "\n",
    "The hourly wages in a particular industry are normally distributed with mean 13.20 USD and standard deviation  2.50 USD. A company in this industry employs 40 workers, paying them an average of 12.20 USD per hour. Can this company be accused of paying substandard wages?\n",
    "\n",
    "Use an α = .01 level test. (Wackerly, Ex.10.18)\n",
    "\n",
    "CHECK: statistic: -2.5298221281347035, pvalue= 0.005706018193000826"
   ]
  },
  {
   "cell_type": "code",
   "execution_count": 18,
   "id": "bcfa2f59",
   "metadata": {},
   "outputs": [],
   "source": [
    "# H0: The company pays standard wages (>= 13.20 USD)\n",
    "# H1: The company pays substandard wages (< 13.20 USD)"
   ]
  },
  {
   "cell_type": "code",
   "execution_count": 19,
   "id": "d4840ac8",
   "metadata": {},
   "outputs": [],
   "source": [
    "mu = 13.20\n",
    "sigma = 2.50\n",
    "\n",
    "xbar = 12.20\n",
    "n = 40\n",
    "\n",
    "alpha = 0.01"
   ]
  },
  {
   "cell_type": "code",
   "execution_count": 20,
   "id": "60959f81",
   "metadata": {},
   "outputs": [
    {
     "name": "stdout",
     "output_type": "stream",
     "text": [
      "z_values is: -2.5298221281347035\n",
      "p_values is: 0.005706018193000826\n",
      "At 0.01 level of significance, the company pays substandard wages.\n"
     ]
    }
   ],
   "source": [
    "# with z-distribution\n",
    "\n",
    "z = (xbar - mu) / (sigma/np.sqrt(n))\n",
    "p_value = stats.norm.cdf(z)\n",
    "\n",
    "print(f'z_values is: {z}')\n",
    "print(f'p_values is: {p_value}')\n",
    "\n",
    "if p_value < alpha:\n",
    "    print('At {} level of significance, the company pays substandard wages.'.format(alpha))\n",
    "else:\n",
    "    print('At {} level of significance, the company pays standard wages.'.format(alpha))"
   ]
  },
  {
   "cell_type": "code",
   "execution_count": 21,
   "id": "8aae08d1",
   "metadata": {},
   "outputs": [
    {
     "name": "stdout",
     "output_type": "stream",
     "text": [
      "t_values is: -2.5298221281347035\n",
      "p_value is: 0.0077816812266594355\n",
      "At 0.01 level of significance, the company pays substandard wages.\n"
     ]
    }
   ],
   "source": [
    "# with t-distribution (Although population std is given and we are expe to use z-distribution)\n",
    "\n",
    "t = (xbar - mu) / (sigma / np.sqrt(n))\n",
    "p_value = stats.t.cdf(t, df=n-1)\n",
    "\n",
    "print(f't_values is: {t}')\n",
    "print(f'p_value is: {p_value}')\n",
    "\n",
    "if p_value < alpha:\n",
    "    print('At {} level of significance, the company pays substandard wages.'.format(alpha))\n",
    "else:\n",
    "    print('At {} level of significance, the company pays standard wages.'.format(alpha))"
   ]
  },
  {
   "cell_type": "markdown",
   "id": "0a60daa4",
   "metadata": {},
   "source": [
    "### EXERCISE 4.\n",
    "\n",
    "Shear strength measurements derived from unconfined compression tests for two types of soils gave the results shown in the following document (measurements in tons per square foot). Do the soils appear to differ with respect to average shear strength, at the 1% significance level?\n",
    "\n",
    "Results for two type of soils (soil.csv)\n",
    "\n",
    "CHECK: statistic: 5.1681473319343345, pvalue= 2.593228732352821e-06"
   ]
  },
  {
   "cell_type": "code",
   "execution_count": 2,
   "id": "54407f8f",
   "metadata": {},
   "outputs": [],
   "source": [
    "soil = pd.read_csv(\"soil.csv\")"
   ]
  },
  {
   "cell_type": "code",
   "execution_count": 3,
   "id": "5ae354be",
   "metadata": {},
   "outputs": [
    {
     "data": {
      "text/html": [
       "<div>\n",
       "<style scoped>\n",
       "    .dataframe tbody tr th:only-of-type {\n",
       "        vertical-align: middle;\n",
       "    }\n",
       "\n",
       "    .dataframe tbody tr th {\n",
       "        vertical-align: top;\n",
       "    }\n",
       "\n",
       "    .dataframe thead th {\n",
       "        text-align: right;\n",
       "    }\n",
       "</style>\n",
       "<table border=\"1\" class=\"dataframe\">\n",
       "  <thead>\n",
       "    <tr style=\"text-align: right;\">\n",
       "      <th></th>\n",
       "      <th>Soil1</th>\n",
       "      <th>Soil2</th>\n",
       "    </tr>\n",
       "  </thead>\n",
       "  <tbody>\n",
       "    <tr>\n",
       "      <th>34</th>\n",
       "      <td>NaN</td>\n",
       "      <td>1.355</td>\n",
       "    </tr>\n",
       "    <tr>\n",
       "      <th>5</th>\n",
       "      <td>1.641</td>\n",
       "      <td>1.428</td>\n",
       "    </tr>\n",
       "    <tr>\n",
       "      <th>21</th>\n",
       "      <td>1.613</td>\n",
       "      <td>1.367</td>\n",
       "    </tr>\n",
       "    <tr>\n",
       "      <th>26</th>\n",
       "      <td>1.737</td>\n",
       "      <td>1.489</td>\n",
       "    </tr>\n",
       "    <tr>\n",
       "      <th>22</th>\n",
       "      <td>2.054</td>\n",
       "      <td>1.144</td>\n",
       "    </tr>\n",
       "  </tbody>\n",
       "</table>\n",
       "</div>"
      ],
      "text/plain": [
       "    Soil1  Soil2\n",
       "34    NaN  1.355\n",
       "5   1.641  1.428\n",
       "21  1.613  1.367\n",
       "26  1.737  1.489\n",
       "22  2.054  1.144"
      ]
     },
     "execution_count": 3,
     "metadata": {},
     "output_type": "execute_result"
    }
   ],
   "source": [
    "soil.sample(5)"
   ]
  },
  {
   "cell_type": "code",
   "execution_count": 84,
   "id": "fa63cefe",
   "metadata": {},
   "outputs": [
    {
     "data": {
      "text/plain": [
       "Soil1    5\n",
       "Soil2    0\n",
       "dtype: int64"
      ]
     },
     "execution_count": 84,
     "metadata": {},
     "output_type": "execute_result"
    }
   ],
   "source": [
    "soil.isnull().sum()"
   ]
  },
  {
   "cell_type": "code",
   "execution_count": 24,
   "id": "583b41e6",
   "metadata": {},
   "outputs": [],
   "source": [
    "# H0: The soils do NOT  differ with respect to average shear strength (mu_Soil1 = mu_Soil2)\n",
    "# H1: The soils differ with respect to average shear strength (mu_Soil1 != mu_Soil2)"
   ]
  },
  {
   "cell_type": "code",
   "execution_count": 4,
   "id": "8baf5dac",
   "metadata": {},
   "outputs": [
    {
     "data": {
      "text/plain": [
       "LeveneResult(statistic=0.31486292982090475, pvalue=0.5767018253541134)"
      ]
     },
     "execution_count": 4,
     "metadata": {},
     "output_type": "execute_result"
    }
   ],
   "source": [
    "leveneTest = stats.levene(soil.Soil1.dropna(), soil.Soil2)\n",
    "leveneTest"
   ]
  },
  {
   "cell_type": "code",
   "execution_count": 7,
   "id": "2e7891a2",
   "metadata": {},
   "outputs": [
    {
     "data": {
      "text/plain": [
       "Ttest_indResult(statistic=5.1681473319343345, pvalue=2.593228732352821e-06)"
      ]
     },
     "execution_count": 7,
     "metadata": {},
     "output_type": "execute_result"
    }
   ],
   "source": [
    "indTest = stats.ttest_ind(soil.Soil1.dropna(), soil.Soil2, equal_var = True)\n",
    "indTest"
   ]
  },
  {
   "cell_type": "code",
   "execution_count": 12,
   "id": "7e977290",
   "metadata": {},
   "outputs": [
    {
     "name": "stdout",
     "output_type": "stream",
     "text": [
      "At 0.01 level of significance, the soils differ with respect to average shear strength. (Reject H0)\n"
     ]
    }
   ],
   "source": [
    "alpha = 0.01\n",
    "p_value = indTest.pvalue\n",
    "\n",
    "if p_value < alpha:\n",
    "    print('At {} level of significance, the soils differ with respect to average shear strength. (Reject H0)'.format(alpha))\n",
    "else:\n",
    "    print('At {} level of significance, the soils do NOT differ with respect to average shear strength. (Fail to reject H0)'.format(alpha))"
   ]
  },
  {
   "cell_type": "code",
   "execution_count": null,
   "id": "2a0e0618",
   "metadata": {},
   "outputs": [],
   "source": []
  },
  {
   "cell_type": "markdown",
   "id": "e79e1d38",
   "metadata": {},
   "source": [
    "### EXERCISE 5.\n",
    "\n",
    "The following dataset is based on data provided by the World Bank (https://datacatalog.worldbank.org/dataset/education-statistics). World Bank Edstats.  \n",
    "\n",
    "2015 PISA Test Dataset (pisa_2015.csv)\n",
    "\n",
    "Get descriptive statistics (the central tendency, dispersion and shape of a dataset’s distribution) for each continent group (AS, EU, AF, NA, SA, OC).\n",
    "Determine whether there is any difference (on the average) for the math scores among European (EU) and Asian (AS) countries (assume normality and equal variances). Draw side-by-side box plots.\n",
    "CHECK: statistic=0.870055317967983, pvalue=0.38826888111307345"
   ]
  },
  {
   "cell_type": "code",
   "execution_count": 3,
   "id": "5276c90f",
   "metadata": {},
   "outputs": [],
   "source": [
    "pisa = pd.read_csv(\"pisa_2015.csv\")"
   ]
  },
  {
   "cell_type": "code",
   "execution_count": 4,
   "id": "636974df",
   "metadata": {},
   "outputs": [
    {
     "data": {
      "text/html": [
       "<div>\n",
       "<style scoped>\n",
       "    .dataframe tbody tr th:only-of-type {\n",
       "        vertical-align: middle;\n",
       "    }\n",
       "\n",
       "    .dataframe tbody tr th {\n",
       "        vertical-align: top;\n",
       "    }\n",
       "\n",
       "    .dataframe thead th {\n",
       "        text-align: right;\n",
       "    }\n",
       "</style>\n",
       "<table border=\"1\" class=\"dataframe\">\n",
       "  <thead>\n",
       "    <tr style=\"text-align: right;\">\n",
       "      <th></th>\n",
       "      <th>Country Code</th>\n",
       "      <th>Continent_Code</th>\n",
       "      <th>internet_users_per_100</th>\n",
       "      <th>Math</th>\n",
       "      <th>Reading</th>\n",
       "      <th>Science</th>\n",
       "    </tr>\n",
       "  </thead>\n",
       "  <tbody>\n",
       "    <tr>\n",
       "      <th>0</th>\n",
       "      <td>ALB</td>\n",
       "      <td>EU</td>\n",
       "      <td>63.252933</td>\n",
       "      <td>413.1570</td>\n",
       "      <td>405.2588</td>\n",
       "      <td>427.2250</td>\n",
       "    </tr>\n",
       "    <tr>\n",
       "      <th>2</th>\n",
       "      <td>ARG</td>\n",
       "      <td>SA</td>\n",
       "      <td>68.043064</td>\n",
       "      <td>409.0333</td>\n",
       "      <td>425.3031</td>\n",
       "      <td>432.2262</td>\n",
       "    </tr>\n",
       "    <tr>\n",
       "      <th>52</th>\n",
       "      <td>NZL</td>\n",
       "      <td>OC</td>\n",
       "      <td>88.222889</td>\n",
       "      <td>495.2233</td>\n",
       "      <td>509.2707</td>\n",
       "      <td>513.3035</td>\n",
       "    </tr>\n",
       "    <tr>\n",
       "      <th>5</th>\n",
       "      <td>BEL</td>\n",
       "      <td>EU</td>\n",
       "      <td>85.052900</td>\n",
       "      <td>506.9844</td>\n",
       "      <td>498.5242</td>\n",
       "      <td>501.9997</td>\n",
       "    </tr>\n",
       "    <tr>\n",
       "      <th>69</th>\n",
       "      <td>VNM</td>\n",
       "      <td>AS</td>\n",
       "      <td>43.500000</td>\n",
       "      <td>494.5183</td>\n",
       "      <td>486.7738</td>\n",
       "      <td>524.6445</td>\n",
       "    </tr>\n",
       "  </tbody>\n",
       "</table>\n",
       "</div>"
      ],
      "text/plain": [
       "   Country Code Continent_Code  internet_users_per_100      Math   Reading  \\\n",
       "0           ALB             EU               63.252933  413.1570  405.2588   \n",
       "2           ARG             SA               68.043064  409.0333  425.3031   \n",
       "52          NZL             OC               88.222889  495.2233  509.2707   \n",
       "5           BEL             EU               85.052900  506.9844  498.5242   \n",
       "69          VNM             AS               43.500000  494.5183  486.7738   \n",
       "\n",
       "     Science  \n",
       "0   427.2250  \n",
       "2   432.2262  \n",
       "52  513.3035  \n",
       "5   501.9997  \n",
       "69  524.6445  "
      ]
     },
     "execution_count": 4,
     "metadata": {},
     "output_type": "execute_result"
    }
   ],
   "source": [
    "pisa.sample(5)"
   ]
  },
  {
   "cell_type": "code",
   "execution_count": 5,
   "id": "011625ec",
   "metadata": {},
   "outputs": [
    {
     "name": "stdout",
     "output_type": "stream",
     "text": [
      "<class 'pandas.core.frame.DataFrame'>\n",
      "RangeIndex: 70 entries, 0 to 69\n",
      "Data columns (total 6 columns):\n",
      " #   Column                  Non-Null Count  Dtype  \n",
      "---  ------                  --------------  -----  \n",
      " 0   Country Code            70 non-null     object \n",
      " 1   Continent_Code          65 non-null     object \n",
      " 2   internet_users_per_100  70 non-null     float64\n",
      " 3   Math                    70 non-null     float64\n",
      " 4   Reading                 70 non-null     float64\n",
      " 5   Science                 70 non-null     float64\n",
      "dtypes: float64(4), object(2)\n",
      "memory usage: 3.4+ KB\n"
     ]
    }
   ],
   "source": [
    "pisa.info()"
   ]
  },
  {
   "cell_type": "code",
   "execution_count": 37,
   "id": "1c4ce55c",
   "metadata": {},
   "outputs": [],
   "source": [
    "#H0: mu = 10\n",
    "#H1: mu > 10"
   ]
  },
  {
   "cell_type": "code",
   "execution_count": null,
   "id": "89b8ec88",
   "metadata": {},
   "outputs": [],
   "source": []
  },
  {
   "cell_type": "code",
   "execution_count": null,
   "id": "abd0aafa",
   "metadata": {},
   "outputs": [],
   "source": []
  },
  {
   "cell_type": "code",
   "execution_count": null,
   "id": "2f440193",
   "metadata": {},
   "outputs": [],
   "source": []
  },
  {
   "cell_type": "code",
   "execution_count": null,
   "id": "b5a9c42d",
   "metadata": {},
   "outputs": [],
   "source": []
  },
  {
   "cell_type": "markdown",
   "id": "cb0c8557",
   "metadata": {},
   "source": [
    "Write the given variables"
   ]
  },
  {
   "cell_type": "code",
   "execution_count": 38,
   "id": "1447b42b",
   "metadata": {},
   "outputs": [],
   "source": [
    "mu = 10\n",
    "\n",
    "xbar = 10.5\n",
    "n = 40\n",
    "\n",
    "sigma = 1.5\n",
    "\n",
    "alpha = 0.05"
   ]
  },
  {
   "cell_type": "code",
   "execution_count": 39,
   "id": "10636c20",
   "metadata": {},
   "outputs": [
    {
     "data": {
      "text/plain": [
       "0.23717082451262844"
      ]
     },
     "execution_count": 39,
     "metadata": {},
     "output_type": "execute_result"
    }
   ],
   "source": [
    "1.5/np.sqrt(n)"
   ]
  },
  {
   "cell_type": "code",
   "execution_count": 40,
   "id": "afa24a05",
   "metadata": {},
   "outputs": [
    {
     "data": {
      "text/plain": [
       "0.5"
      ]
     },
     "execution_count": 40,
     "metadata": {},
     "output_type": "execute_result"
    }
   ],
   "source": [
    "2.1081851067789197 * 0.23717082451262844"
   ]
  },
  {
   "cell_type": "code",
   "execution_count": 41,
   "id": "dd609e58",
   "metadata": {},
   "outputs": [
    {
     "data": {
      "text/plain": [
       "8.872021934882772"
      ]
     },
     "execution_count": 41,
     "metadata": {},
     "output_type": "execute_result"
    }
   ],
   "source": [
    "10.5 - z*0.23717082451262844"
   ]
  },
  {
   "cell_type": "markdown",
   "id": "22e51ced",
   "metadata": {},
   "source": [
    "Calculate the test statistic"
   ]
  },
  {
   "cell_type": "code",
   "execution_count": 42,
   "id": "036aaea9",
   "metadata": {},
   "outputs": [
    {
     "data": {
      "text/plain": [
       "2.1081851067789197"
      ]
     },
     "execution_count": 42,
     "metadata": {},
     "output_type": "execute_result"
    }
   ],
   "source": [
    "z = (xbar - mu) / (sigma/np.sqrt(n))\n",
    "z"
   ]
  },
  {
   "cell_type": "markdown",
   "id": "51cbff53",
   "metadata": {},
   "source": [
    "Calculate the p-value"
   ]
  },
  {
   "cell_type": "code",
   "execution_count": 43,
   "id": "ac4fb53a",
   "metadata": {},
   "outputs": [
    {
     "data": {
      "text/plain": [
       "0.9824925094901688"
      ]
     },
     "execution_count": 43,
     "metadata": {},
     "output_type": "execute_result"
    }
   ],
   "source": [
    "stats.norm.cdf(z)  ## z'ye kadar olan alani verir. Sag tarafi bulmak icin 1'den cikrmamiz gerekiyor"
   ]
  },
  {
   "cell_type": "code",
   "execution_count": 44,
   "id": "11cb21b6",
   "metadata": {},
   "outputs": [
    {
     "data": {
      "text/plain": [
       "0.017507490509831247"
      ]
     },
     "execution_count": 44,
     "metadata": {},
     "output_type": "execute_result"
    }
   ],
   "source": [
    "p_value = 1 - stats.norm.cdf(z)\n",
    "p_value"
   ]
  },
  {
   "cell_type": "markdown",
   "id": "1a367cbd",
   "metadata": {},
   "source": [
    "Conclusion"
   ]
  },
  {
   "cell_type": "code",
   "execution_count": 45,
   "id": "d8c788c8",
   "metadata": {},
   "outputs": [
    {
     "name": "stdout",
     "output_type": "stream",
     "text": [
      "At 0.05 level of significance, we can reject the null hypothesis in favor of alternative hypothesis.\n"
     ]
    }
   ],
   "source": [
    "if p_value < alpha:\n",
    "    print('At {} level of significance, we can reject the null hypothesis in favor of alternative hypothesis.'.format(alpha))\n",
    "else:\n",
    "    print('At {} level of significance, we fail to reject the null hypothesis.'.format(alpha))"
   ]
  },
  {
   "cell_type": "markdown",
   "id": "9f9cfe83",
   "metadata": {},
   "source": [
    "## Example-2\n",
    "- A department store manager determines that a new billing system will be cost-effective only if the mean monthly account is more than 170 dollars.\n",
    "\n",
    "- A random sample of 400 monthly accounts is drawn, for which the sample mean is 178 dollars.\n",
    "\n",
    "- The accounts are approximately normally distributed with a standard deviation of 65 dollars.\n",
    "\n",
    "- Can we conclude that the new system will be cost-effective?"
   ]
  },
  {
   "cell_type": "code",
   "execution_count": 46,
   "id": "8ae6b87f",
   "metadata": {},
   "outputs": [],
   "source": [
    "#H0: mu = 170\n",
    "#H1: mu > 170"
   ]
  },
  {
   "cell_type": "code",
   "execution_count": 47,
   "id": "c7958753",
   "metadata": {},
   "outputs": [],
   "source": [
    "mu = 170\n",
    "\n",
    "x_bar = 178\n",
    "n = 400\n",
    "\n",
    "sigma = 65\n",
    "\n",
    "alpha = 0.05"
   ]
  },
  {
   "cell_type": "code",
   "execution_count": 48,
   "id": "b6bf1918",
   "metadata": {},
   "outputs": [
    {
     "data": {
      "text/plain": [
       "2.4615384615384617"
      ]
     },
     "execution_count": 48,
     "metadata": {},
     "output_type": "execute_result"
    }
   ],
   "source": [
    "z = (x_bar - mu) / (sigma/np.sqrt(n))\n",
    "z\n"
   ]
  },
  {
   "cell_type": "code",
   "execution_count": 49,
   "id": "e75330a1",
   "metadata": {},
   "outputs": [
    {
     "data": {
      "text/plain": [
       "3.25"
      ]
     },
     "execution_count": 49,
     "metadata": {},
     "output_type": "execute_result"
    }
   ],
   "source": [
    "#Standard Error\n",
    "sigma/np.sqrt(n)"
   ]
  },
  {
   "cell_type": "code",
   "execution_count": 50,
   "id": "86638b31",
   "metadata": {},
   "outputs": [
    {
     "data": {
      "text/plain": [
       "0.006917128192854505"
      ]
     },
     "execution_count": 50,
     "metadata": {},
     "output_type": "execute_result"
    }
   ],
   "source": [
    "p_value = 1 - stats.norm.cdf(z)\n",
    "p_value"
   ]
  },
  {
   "cell_type": "code",
   "execution_count": 51,
   "id": "d019138c",
   "metadata": {},
   "outputs": [
    {
     "data": {
      "text/plain": [
       "0.006917128192854505"
      ]
     },
     "execution_count": 51,
     "metadata": {},
     "output_type": "execute_result"
    }
   ],
   "source": [
    "1 - stats.norm.cdf(178, 170, 3.25)"
   ]
  },
  {
   "cell_type": "code",
   "execution_count": 52,
   "id": "9bc28926",
   "metadata": {},
   "outputs": [
    {
     "name": "stdout",
     "output_type": "stream",
     "text": [
      "At 0.05 level of significance, we can reject the null hypothesis in favor of alternative hypothesis.\n"
     ]
    }
   ],
   "source": [
    "if p_value < alpha:\n",
    "    print('At {} level of significance, we can reject the null hypothesis in favor of alternative hypothesis.'.format(alpha))\n",
    "else:\n",
    "    print('At {} level of significance, we fail to reject the null hypothesis.'.format(alpha))"
   ]
  },
  {
   "cell_type": "markdown",
   "id": "f37b87a7",
   "metadata": {},
   "source": [
    "# One Sample t Test"
   ]
  },
  {
   "cell_type": "markdown",
   "id": "1c968dc4",
   "metadata": {},
   "source": [
    "## Example-1\n",
    "- Bon Air ELEM has 1000 students. The principal of the school thinks that the average IQ of students at Bon Air is at least 110. To prove her point, she administers an IQ test to 20 randomly selected students.\n",
    "- Among the sampled students, the average IQ is 108 with a standard deviation of 10.\n",
    "- Based on these results, should the principal accept or reject her original hypothesis? α = 0.01"
   ]
  },
  {
   "cell_type": "code",
   "execution_count": 53,
   "id": "e14649ab",
   "metadata": {},
   "outputs": [],
   "source": [
    "#H0: mu = 110\n",
    "#H1: mu < 110"
   ]
  },
  {
   "cell_type": "code",
   "execution_count": 54,
   "id": "e4db9b94",
   "metadata": {},
   "outputs": [],
   "source": [
    "mu = 110\n",
    "\n",
    "xbar = 108\n",
    "n = 20\n",
    "s = 10\n",
    "\n",
    "alpha = 0.01"
   ]
  },
  {
   "cell_type": "code",
   "execution_count": 55,
   "id": "dfc729b8",
   "metadata": {},
   "outputs": [
    {
     "data": {
      "text/plain": [
       "-0.8944271909999159"
      ]
     },
     "execution_count": 55,
     "metadata": {},
     "output_type": "execute_result"
    }
   ],
   "source": [
    "t = (xbar - mu) / (s / np.sqrt(n))\n",
    "t"
   ]
  },
  {
   "cell_type": "code",
   "execution_count": 56,
   "id": "4c40b6b7",
   "metadata": {},
   "outputs": [
    {
     "data": {
      "text/plain": [
       "0.1911420676837155"
      ]
     },
     "execution_count": 56,
     "metadata": {},
     "output_type": "execute_result"
    }
   ],
   "source": [
    "p_value = stats.t.cdf(t, df=n-1)\n",
    "p_value"
   ]
  },
  {
   "cell_type": "code",
   "execution_count": 57,
   "id": "548cde6f",
   "metadata": {},
   "outputs": [
    {
     "name": "stdout",
     "output_type": "stream",
     "text": [
      "At 0.01 level of significance, we fail to reject the null hypothesis.\n"
     ]
    }
   ],
   "source": [
    "if p_value < alpha:\n",
    "    print('At {} level of significance, we can reject the null hypothesis in favor of alternative hypothesis.'.format(alpha))\n",
    "else:\n",
    "    print('At {} level of significance, we fail to reject the null hypothesis.'.format(alpha))"
   ]
  },
  {
   "cell_type": "code",
   "execution_count": null,
   "id": "a1bb6d74",
   "metadata": {},
   "outputs": [],
   "source": []
  },
  {
   "cell_type": "code",
   "execution_count": 58,
   "id": "f368d76a",
   "metadata": {},
   "outputs": [
    {
     "data": {
      "text/plain": [
       "-0.8944271909999159"
      ]
     },
     "execution_count": 58,
     "metadata": {},
     "output_type": "execute_result"
    }
   ],
   "source": [
    "#How to calculate t-value if we know the p-value\n",
    "\n",
    "stats.t.ppf(p_value, df=n-1)"
   ]
  },
  {
   "cell_type": "code",
   "execution_count": 59,
   "id": "73a4c8c7",
   "metadata": {},
   "outputs": [
    {
     "data": {
      "text/plain": [
       "-2.5394831906222888"
      ]
     },
     "execution_count": 59,
     "metadata": {},
     "output_type": "execute_result"
    }
   ],
   "source": [
    "#How to calculate critical value\n",
    "stats.t.ppf(alpha, df=n-1)"
   ]
  },
  {
   "cell_type": "code",
   "execution_count": 60,
   "id": "b3c6d6bf",
   "metadata": {},
   "outputs": [
    {
     "data": {
      "text/plain": [
       "-1.7291328115213678"
      ]
     },
     "execution_count": 60,
     "metadata": {},
     "output_type": "execute_result"
    }
   ],
   "source": [
    "stats.t.ppf(0.05, df=n-1)"
   ]
  },
  {
   "cell_type": "code",
   "execution_count": null,
   "id": "354579a1",
   "metadata": {},
   "outputs": [],
   "source": []
  },
  {
   "cell_type": "code",
   "execution_count": null,
   "id": "754908d8",
   "metadata": {},
   "outputs": [],
   "source": []
  },
  {
   "cell_type": "code",
   "execution_count": null,
   "id": "a3aaab5b",
   "metadata": {},
   "outputs": [],
   "source": []
  },
  {
   "cell_type": "code",
   "execution_count": null,
   "id": "d85837e0",
   "metadata": {},
   "outputs": [],
   "source": []
  },
  {
   "cell_type": "code",
   "execution_count": null,
   "id": "d36f60e3",
   "metadata": {},
   "outputs": [],
   "source": []
  },
  {
   "cell_type": "code",
   "execution_count": null,
   "id": "9e0e1999",
   "metadata": {},
   "outputs": [],
   "source": []
  },
  {
   "cell_type": "code",
   "execution_count": null,
   "id": "f99657e8",
   "metadata": {},
   "outputs": [],
   "source": []
  },
  {
   "cell_type": "code",
   "execution_count": null,
   "id": "ff528651",
   "metadata": {},
   "outputs": [],
   "source": []
  },
  {
   "cell_type": "code",
   "execution_count": null,
   "id": "4b0bd60d",
   "metadata": {},
   "outputs": [],
   "source": []
  },
  {
   "cell_type": "code",
   "execution_count": null,
   "id": "2462f735",
   "metadata": {},
   "outputs": [],
   "source": []
  }
 ],
 "metadata": {
  "kernelspec": {
   "display_name": "Python 3 (ipykernel)",
   "language": "python",
   "name": "python3"
  },
  "language_info": {
   "codemirror_mode": {
    "name": "ipython",
    "version": 3
   },
   "file_extension": ".py",
   "mimetype": "text/x-python",
   "name": "python",
   "nbconvert_exporter": "python",
   "pygments_lexer": "ipython3",
   "version": "3.9.13"
  }
 },
 "nbformat": 4,
 "nbformat_minor": 5
}
