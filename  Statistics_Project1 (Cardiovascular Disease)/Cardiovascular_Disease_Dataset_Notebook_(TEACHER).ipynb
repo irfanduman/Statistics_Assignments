{
 "cells": [
  {
   "cell_type": "markdown",
   "id": "31e10954",
   "metadata": {
    "id": "31e10954"
   },
   "source": [
    "<a href=\"https://clarusway.com/contact-us/\"><img align=\"center\" src=\"https://i.ibb.co/B43qn24/officially-licensed-logo.png\" alt=\"Open in Clarusway LMS\" width=\"110\" height=\"200\" title=\"This notebook is licensed by Clarusway IT training school. Please contact the authorized persons about the conditions under which you can use or share.\"></a>"
   ]
  },
  {
   "cell_type": "markdown",
   "id": "u3DMViJN2znV",
   "metadata": {
    "id": "u3DMViJN2znV"
   },
   "source": [
    "# Cardiovascular Disease Dataset\n",
    "\n",
    "We will study with a dataset on Cardiovascular Disease.\n",
    "\n",
    "We'll try to understand the concepts like\n",
    "\n",
    "- true means,\n",
    "- confidence intervals,\n",
    "- one sample t test,\n",
    "- independent samples t test,\n",
    "- homogenity of variance check (Levene's test),\n",
    "- One-way ANOVA,\n",
    "- Chi-square test.\n",
    "\n",
    "Dataset from: https://www.kaggle.com/datasets/sulianova/cardiovascular-disease-dataset"
   ]
  },
  {
   "cell_type": "markdown",
   "id": "ce8088f5",
   "metadata": {
    "id": "ce8088f5"
   },
   "source": [
    "# Data Preparation"
   ]
  },
  {
   "cell_type": "markdown",
   "id": "c5e829d7",
   "metadata": {
    "id": "c5e829d7"
   },
   "source": [
    "⭐ Import pandas, scipy.stats, seaborn, and matplotlib.pyplot libraries"
   ]
  },
  {
   "cell_type": "code",
   "execution_count": 1,
   "id": "4ee9098b",
   "metadata": {
    "executionInfo": {
     "elapsed": 2692,
     "status": "ok",
     "timestamp": 1673272228007,
     "user": {
      "displayName": "Richard Thames",
      "userId": "00258987493291873022"
     },
     "user_tz": -180
    },
    "id": "4ee9098b"
   },
   "outputs": [],
   "source": [
    "import pandas as pd\n",
    "import numpy as np\n",
    "from scipy import stats\n",
    "import seaborn as sns\n",
    "import matplotlib.pyplot as plt"
   ]
  },
  {
   "cell_type": "code",
   "execution_count": 3,
   "id": "1HY2I-W_zFyE",
   "metadata": {
    "colab": {
     "base_uri": "https://localhost:8080/"
    },
    "executionInfo": {
     "elapsed": 19377,
     "status": "ok",
     "timestamp": 1673272277591,
     "user": {
      "displayName": "Richard Thames",
      "userId": "00258987493291873022"
     },
     "user_tz": -180
    },
    "id": "1HY2I-W_zFyE",
    "outputId": "56498b70-499d-4f7f-dea2-8661d8fd619d"
   },
   "outputs": [
    {
     "name": "stdout",
     "output_type": "stream",
     "text": [
      "Mounted at /content/drive\n"
     ]
    }
   ],
   "source": [
    "# from google.colab import drive\n",
    "# drive.mount('/content/drive')"
   ]
  },
  {
   "cell_type": "markdown",
   "id": "b631a97c",
   "metadata": {
    "id": "b631a97c"
   },
   "source": [
    "⭐Run the following code to read in the \"cardio.csv\" file."
   ]
  },
  {
   "cell_type": "code",
   "execution_count": 2,
   "id": "c7983124",
   "metadata": {
    "executionInfo": {
     "elapsed": 1032,
     "status": "ok",
     "timestamp": 1673272310036,
     "user": {
      "displayName": "Richard Thames",
      "userId": "00258987493291873022"
     },
     "user_tz": -180
    },
    "id": "c7983124"
   },
   "outputs": [],
   "source": [
    "df = pd.read_csv(\"cardio.csv\", sep=\";\")"
   ]
  },
  {
   "cell_type": "code",
   "execution_count": 3,
   "id": "0cab8e4e",
   "metadata": {
    "colab": {
     "base_uri": "https://localhost:8080/",
     "height": 206
    },
    "executionInfo": {
     "elapsed": 253,
     "status": "ok",
     "timestamp": 1673272313768,
     "user": {
      "displayName": "Richard Thames",
      "userId": "00258987493291873022"
     },
     "user_tz": -180
    },
    "id": "0cab8e4e",
    "outputId": "f829192a-6ac4-481c-9411-6960b8311652"
   },
   "outputs": [
    {
     "data": {
      "text/html": [
       "<div>\n",
       "<style scoped>\n",
       "    .dataframe tbody tr th:only-of-type {\n",
       "        vertical-align: middle;\n",
       "    }\n",
       "\n",
       "    .dataframe tbody tr th {\n",
       "        vertical-align: top;\n",
       "    }\n",
       "\n",
       "    .dataframe thead th {\n",
       "        text-align: right;\n",
       "    }\n",
       "</style>\n",
       "<table border=\"1\" class=\"dataframe\">\n",
       "  <thead>\n",
       "    <tr style=\"text-align: right;\">\n",
       "      <th></th>\n",
       "      <th>id</th>\n",
       "      <th>age</th>\n",
       "      <th>gender</th>\n",
       "      <th>height</th>\n",
       "      <th>weight</th>\n",
       "      <th>ap_hi</th>\n",
       "      <th>ap_lo</th>\n",
       "      <th>cholesterol</th>\n",
       "      <th>gluc</th>\n",
       "      <th>smoke</th>\n",
       "      <th>alco</th>\n",
       "      <th>active</th>\n",
       "      <th>cardio</th>\n",
       "    </tr>\n",
       "  </thead>\n",
       "  <tbody>\n",
       "    <tr>\n",
       "      <th>0</th>\n",
       "      <td>0</td>\n",
       "      <td>18393</td>\n",
       "      <td>2</td>\n",
       "      <td>168</td>\n",
       "      <td>62.0</td>\n",
       "      <td>110</td>\n",
       "      <td>80</td>\n",
       "      <td>1</td>\n",
       "      <td>1</td>\n",
       "      <td>0</td>\n",
       "      <td>0</td>\n",
       "      <td>1</td>\n",
       "      <td>0</td>\n",
       "    </tr>\n",
       "    <tr>\n",
       "      <th>1</th>\n",
       "      <td>1</td>\n",
       "      <td>20228</td>\n",
       "      <td>1</td>\n",
       "      <td>156</td>\n",
       "      <td>85.0</td>\n",
       "      <td>140</td>\n",
       "      <td>90</td>\n",
       "      <td>3</td>\n",
       "      <td>1</td>\n",
       "      <td>0</td>\n",
       "      <td>0</td>\n",
       "      <td>1</td>\n",
       "      <td>1</td>\n",
       "    </tr>\n",
       "    <tr>\n",
       "      <th>2</th>\n",
       "      <td>2</td>\n",
       "      <td>18857</td>\n",
       "      <td>1</td>\n",
       "      <td>165</td>\n",
       "      <td>64.0</td>\n",
       "      <td>130</td>\n",
       "      <td>70</td>\n",
       "      <td>3</td>\n",
       "      <td>1</td>\n",
       "      <td>0</td>\n",
       "      <td>0</td>\n",
       "      <td>0</td>\n",
       "      <td>1</td>\n",
       "    </tr>\n",
       "    <tr>\n",
       "      <th>3</th>\n",
       "      <td>3</td>\n",
       "      <td>17623</td>\n",
       "      <td>2</td>\n",
       "      <td>169</td>\n",
       "      <td>82.0</td>\n",
       "      <td>150</td>\n",
       "      <td>100</td>\n",
       "      <td>1</td>\n",
       "      <td>1</td>\n",
       "      <td>0</td>\n",
       "      <td>0</td>\n",
       "      <td>1</td>\n",
       "      <td>1</td>\n",
       "    </tr>\n",
       "    <tr>\n",
       "      <th>4</th>\n",
       "      <td>4</td>\n",
       "      <td>17474</td>\n",
       "      <td>1</td>\n",
       "      <td>156</td>\n",
       "      <td>56.0</td>\n",
       "      <td>100</td>\n",
       "      <td>60</td>\n",
       "      <td>1</td>\n",
       "      <td>1</td>\n",
       "      <td>0</td>\n",
       "      <td>0</td>\n",
       "      <td>0</td>\n",
       "      <td>0</td>\n",
       "    </tr>\n",
       "  </tbody>\n",
       "</table>\n",
       "</div>"
      ],
      "text/plain": [
       "   id    age  gender  height  weight  ap_hi  ap_lo  cholesterol  gluc  smoke  \\\n",
       "0   0  18393       2     168    62.0    110     80            1     1      0   \n",
       "1   1  20228       1     156    85.0    140     90            3     1      0   \n",
       "2   2  18857       1     165    64.0    130     70            3     1      0   \n",
       "3   3  17623       2     169    82.0    150    100            1     1      0   \n",
       "4   4  17474       1     156    56.0    100     60            1     1      0   \n",
       "\n",
       "   alco  active  cardio  \n",
       "0     0       1       0  \n",
       "1     0       1       1  \n",
       "2     0       0       1  \n",
       "3     0       1       1  \n",
       "4     0       0       0  "
      ]
     },
     "execution_count": 3,
     "metadata": {},
     "output_type": "execute_result"
    }
   ],
   "source": [
    "df.head()"
   ]
  },
  {
   "cell_type": "code",
   "execution_count": 4,
   "id": "e3afdac1",
   "metadata": {
    "colab": {
     "base_uri": "https://localhost:8080/"
    },
    "executionInfo": {
     "elapsed": 256,
     "status": "ok",
     "timestamp": 1673272320303,
     "user": {
      "displayName": "Richard Thames",
      "userId": "00258987493291873022"
     },
     "user_tz": -180
    },
    "id": "e3afdac1",
    "outputId": "89dad2a0-fc99-40da-8ae3-eed424c3c555"
   },
   "outputs": [
    {
     "name": "stdout",
     "output_type": "stream",
     "text": [
      "<class 'pandas.core.frame.DataFrame'>\n",
      "RangeIndex: 70000 entries, 0 to 69999\n",
      "Data columns (total 13 columns):\n",
      " #   Column       Non-Null Count  Dtype  \n",
      "---  ------       --------------  -----  \n",
      " 0   id           70000 non-null  int64  \n",
      " 1   age          70000 non-null  int64  \n",
      " 2   gender       70000 non-null  int64  \n",
      " 3   height       70000 non-null  int64  \n",
      " 4   weight       70000 non-null  float64\n",
      " 5   ap_hi        70000 non-null  int64  \n",
      " 6   ap_lo        70000 non-null  int64  \n",
      " 7   cholesterol  70000 non-null  int64  \n",
      " 8   gluc         70000 non-null  int64  \n",
      " 9   smoke        70000 non-null  int64  \n",
      " 10  alco         70000 non-null  int64  \n",
      " 11  active       70000 non-null  int64  \n",
      " 12  cardio       70000 non-null  int64  \n",
      "dtypes: float64(1), int64(12)\n",
      "memory usage: 6.9 MB\n"
     ]
    }
   ],
   "source": [
    "df.info()"
   ]
  },
  {
   "cell_type": "code",
   "execution_count": 8,
   "id": "8MLvxFYASB9t",
   "metadata": {
    "executionInfo": {
     "elapsed": 237,
     "status": "ok",
     "timestamp": 1673272323698,
     "user": {
      "displayName": "Richard Thames",
      "userId": "00258987493291873022"
     },
     "user_tz": -180
    },
    "id": "8MLvxFYASB9t"
   },
   "outputs": [],
   "source": [
    "df=df.sample(500, random_state=42)"
   ]
  },
  {
   "cell_type": "code",
   "execution_count": 9,
   "id": "6f759084",
   "metadata": {
    "colab": {
     "base_uri": "https://localhost:8080/"
    },
    "executionInfo": {
     "elapsed": 264,
     "status": "ok",
     "timestamp": 1673272330896,
     "user": {
      "displayName": "Richard Thames",
      "userId": "00258987493291873022"
     },
     "user_tz": -180
    },
    "id": "6f759084",
    "outputId": "85c3b8d6-e01d-426b-ca9c-fda36c5ceebf"
   },
   "outputs": [
    {
     "data": {
      "text/plain": [
       "(500, 13)"
      ]
     },
     "execution_count": 9,
     "metadata": {},
     "output_type": "execute_result"
    }
   ],
   "source": [
    "df.shape"
   ]
  },
  {
   "cell_type": "code",
   "execution_count": 9,
   "id": "7bbde1f2",
   "metadata": {
    "colab": {
     "base_uri": "https://localhost:8080/",
     "height": 364
    },
    "executionInfo": {
     "elapsed": 253,
     "status": "ok",
     "timestamp": 1673272333100,
     "user": {
      "displayName": "Richard Thames",
      "userId": "00258987493291873022"
     },
     "user_tz": -180
    },
    "id": "7bbde1f2",
    "outputId": "f90d7154-c915-4d38-8d15-f350113cae3e"
   },
   "outputs": [
    {
     "data": {
      "text/html": [
       "\n",
       "  <div id=\"df-25c821bc-1bef-4770-bc17-d2df96830958\">\n",
       "    <div class=\"colab-df-container\">\n",
       "      <div>\n",
       "<style scoped>\n",
       "    .dataframe tbody tr th:only-of-type {\n",
       "        vertical-align: middle;\n",
       "    }\n",
       "\n",
       "    .dataframe tbody tr th {\n",
       "        vertical-align: top;\n",
       "    }\n",
       "\n",
       "    .dataframe thead th {\n",
       "        text-align: right;\n",
       "    }\n",
       "</style>\n",
       "<table border=\"1\" class=\"dataframe\">\n",
       "  <thead>\n",
       "    <tr style=\"text-align: right;\">\n",
       "      <th></th>\n",
       "      <th>id</th>\n",
       "      <th>age</th>\n",
       "      <th>gender</th>\n",
       "      <th>height</th>\n",
       "      <th>weight</th>\n",
       "      <th>ap_hi</th>\n",
       "      <th>ap_lo</th>\n",
       "      <th>cholesterol</th>\n",
       "      <th>gluc</th>\n",
       "      <th>smoke</th>\n",
       "      <th>alco</th>\n",
       "      <th>active</th>\n",
       "      <th>cardio</th>\n",
       "    </tr>\n",
       "  </thead>\n",
       "  <tbody>\n",
       "    <tr>\n",
       "      <th>count</th>\n",
       "      <td>500.000000</td>\n",
       "      <td>500.000000</td>\n",
       "      <td>500.000000</td>\n",
       "      <td>500.000000</td>\n",
       "      <td>500.000000</td>\n",
       "      <td>500.00000</td>\n",
       "      <td>500.000000</td>\n",
       "      <td>500.000000</td>\n",
       "      <td>500.000000</td>\n",
       "      <td>500.00000</td>\n",
       "      <td>500.000000</td>\n",
       "      <td>500.000000</td>\n",
       "      <td>500.000000</td>\n",
       "    </tr>\n",
       "    <tr>\n",
       "      <th>mean</th>\n",
       "      <td>49656.324000</td>\n",
       "      <td>19460.940000</td>\n",
       "      <td>1.368000</td>\n",
       "      <td>164.746000</td>\n",
       "      <td>74.093400</td>\n",
       "      <td>127.91200</td>\n",
       "      <td>98.908000</td>\n",
       "      <td>1.338000</td>\n",
       "      <td>1.192000</td>\n",
       "      <td>0.07800</td>\n",
       "      <td>0.046000</td>\n",
       "      <td>0.762000</td>\n",
       "      <td>0.492000</td>\n",
       "    </tr>\n",
       "    <tr>\n",
       "      <th>std</th>\n",
       "      <td>27694.652229</td>\n",
       "      <td>2444.264657</td>\n",
       "      <td>0.482744</td>\n",
       "      <td>8.017609</td>\n",
       "      <td>14.340822</td>\n",
       "      <td>40.82349</td>\n",
       "      <td>130.985839</td>\n",
       "      <td>0.651617</td>\n",
       "      <td>0.540111</td>\n",
       "      <td>0.26844</td>\n",
       "      <td>0.209695</td>\n",
       "      <td>0.426286</td>\n",
       "      <td>0.500437</td>\n",
       "    </tr>\n",
       "    <tr>\n",
       "      <th>min</th>\n",
       "      <td>172.000000</td>\n",
       "      <td>14319.000000</td>\n",
       "      <td>1.000000</td>\n",
       "      <td>144.000000</td>\n",
       "      <td>43.000000</td>\n",
       "      <td>-120.00000</td>\n",
       "      <td>0.000000</td>\n",
       "      <td>1.000000</td>\n",
       "      <td>1.000000</td>\n",
       "      <td>0.00000</td>\n",
       "      <td>0.000000</td>\n",
       "      <td>0.000000</td>\n",
       "      <td>0.000000</td>\n",
       "    </tr>\n",
       "    <tr>\n",
       "      <th>25%</th>\n",
       "      <td>26990.500000</td>\n",
       "      <td>17804.000000</td>\n",
       "      <td>1.000000</td>\n",
       "      <td>159.000000</td>\n",
       "      <td>65.000000</td>\n",
       "      <td>120.00000</td>\n",
       "      <td>80.000000</td>\n",
       "      <td>1.000000</td>\n",
       "      <td>1.000000</td>\n",
       "      <td>0.00000</td>\n",
       "      <td>0.000000</td>\n",
       "      <td>1.000000</td>\n",
       "      <td>0.000000</td>\n",
       "    </tr>\n",
       "    <tr>\n",
       "      <th>50%</th>\n",
       "      <td>49225.500000</td>\n",
       "      <td>19669.000000</td>\n",
       "      <td>1.000000</td>\n",
       "      <td>165.000000</td>\n",
       "      <td>72.000000</td>\n",
       "      <td>120.00000</td>\n",
       "      <td>80.000000</td>\n",
       "      <td>1.000000</td>\n",
       "      <td>1.000000</td>\n",
       "      <td>0.00000</td>\n",
       "      <td>0.000000</td>\n",
       "      <td>1.000000</td>\n",
       "      <td>0.000000</td>\n",
       "    </tr>\n",
       "    <tr>\n",
       "      <th>75%</th>\n",
       "      <td>72126.500000</td>\n",
       "      <td>21326.250000</td>\n",
       "      <td>2.000000</td>\n",
       "      <td>170.000000</td>\n",
       "      <td>80.000000</td>\n",
       "      <td>140.00000</td>\n",
       "      <td>90.000000</td>\n",
       "      <td>1.000000</td>\n",
       "      <td>1.000000</td>\n",
       "      <td>0.00000</td>\n",
       "      <td>0.000000</td>\n",
       "      <td>1.000000</td>\n",
       "      <td>1.000000</td>\n",
       "    </tr>\n",
       "    <tr>\n",
       "      <th>max</th>\n",
       "      <td>99934.000000</td>\n",
       "      <td>23670.000000</td>\n",
       "      <td>2.000000</td>\n",
       "      <td>198.000000</td>\n",
       "      <td>160.000000</td>\n",
       "      <td>907.00000</td>\n",
       "      <td>1200.000000</td>\n",
       "      <td>3.000000</td>\n",
       "      <td>3.000000</td>\n",
       "      <td>1.00000</td>\n",
       "      <td>1.000000</td>\n",
       "      <td>1.000000</td>\n",
       "      <td>1.000000</td>\n",
       "    </tr>\n",
       "  </tbody>\n",
       "</table>\n",
       "</div>\n",
       "      <button class=\"colab-df-convert\" onclick=\"convertToInteractive('df-25c821bc-1bef-4770-bc17-d2df96830958')\"\n",
       "              title=\"Convert this dataframe to an interactive table.\"\n",
       "              style=\"display:none;\">\n",
       "        \n",
       "  <svg xmlns=\"http://www.w3.org/2000/svg\" height=\"24px\"viewBox=\"0 0 24 24\"\n",
       "       width=\"24px\">\n",
       "    <path d=\"M0 0h24v24H0V0z\" fill=\"none\"/>\n",
       "    <path d=\"M18.56 5.44l.94 2.06.94-2.06 2.06-.94-2.06-.94-.94-2.06-.94 2.06-2.06.94zm-11 1L8.5 8.5l.94-2.06 2.06-.94-2.06-.94L8.5 2.5l-.94 2.06-2.06.94zm10 10l.94 2.06.94-2.06 2.06-.94-2.06-.94-.94-2.06-.94 2.06-2.06.94z\"/><path d=\"M17.41 7.96l-1.37-1.37c-.4-.4-.92-.59-1.43-.59-.52 0-1.04.2-1.43.59L10.3 9.45l-7.72 7.72c-.78.78-.78 2.05 0 2.83L4 21.41c.39.39.9.59 1.41.59.51 0 1.02-.2 1.41-.59l7.78-7.78 2.81-2.81c.8-.78.8-2.07 0-2.86zM5.41 20L4 18.59l7.72-7.72 1.47 1.35L5.41 20z\"/>\n",
       "  </svg>\n",
       "      </button>\n",
       "      \n",
       "  <style>\n",
       "    .colab-df-container {\n",
       "      display:flex;\n",
       "      flex-wrap:wrap;\n",
       "      gap: 12px;\n",
       "    }\n",
       "\n",
       "    .colab-df-convert {\n",
       "      background-color: #E8F0FE;\n",
       "      border: none;\n",
       "      border-radius: 50%;\n",
       "      cursor: pointer;\n",
       "      display: none;\n",
       "      fill: #1967D2;\n",
       "      height: 32px;\n",
       "      padding: 0 0 0 0;\n",
       "      width: 32px;\n",
       "    }\n",
       "\n",
       "    .colab-df-convert:hover {\n",
       "      background-color: #E2EBFA;\n",
       "      box-shadow: 0px 1px 2px rgba(60, 64, 67, 0.3), 0px 1px 3px 1px rgba(60, 64, 67, 0.15);\n",
       "      fill: #174EA6;\n",
       "    }\n",
       "\n",
       "    [theme=dark] .colab-df-convert {\n",
       "      background-color: #3B4455;\n",
       "      fill: #D2E3FC;\n",
       "    }\n",
       "\n",
       "    [theme=dark] .colab-df-convert:hover {\n",
       "      background-color: #434B5C;\n",
       "      box-shadow: 0px 1px 3px 1px rgba(0, 0, 0, 0.15);\n",
       "      filter: drop-shadow(0px 1px 2px rgba(0, 0, 0, 0.3));\n",
       "      fill: #FFFFFF;\n",
       "    }\n",
       "  </style>\n",
       "\n",
       "      <script>\n",
       "        const buttonEl =\n",
       "          document.querySelector('#df-25c821bc-1bef-4770-bc17-d2df96830958 button.colab-df-convert');\n",
       "        buttonEl.style.display =\n",
       "          google.colab.kernel.accessAllowed ? 'block' : 'none';\n",
       "\n",
       "        async function convertToInteractive(key) {\n",
       "          const element = document.querySelector('#df-25c821bc-1bef-4770-bc17-d2df96830958');\n",
       "          const dataTable =\n",
       "            await google.colab.kernel.invokeFunction('convertToInteractive',\n",
       "                                                     [key], {});\n",
       "          if (!dataTable) return;\n",
       "\n",
       "          const docLinkHtml = 'Like what you see? Visit the ' +\n",
       "            '<a target=\"_blank\" href=https://colab.research.google.com/notebooks/data_table.ipynb>data table notebook</a>'\n",
       "            + ' to learn more about interactive tables.';\n",
       "          element.innerHTML = '';\n",
       "          dataTable['output_type'] = 'display_data';\n",
       "          await google.colab.output.renderOutput(dataTable, element);\n",
       "          const docLink = document.createElement('div');\n",
       "          docLink.innerHTML = docLinkHtml;\n",
       "          element.appendChild(docLink);\n",
       "        }\n",
       "      </script>\n",
       "    </div>\n",
       "  </div>\n",
       "  "
      ],
      "text/plain": [
       "                 id           age      gender      height      weight  \\\n",
       "count    500.000000    500.000000  500.000000  500.000000  500.000000   \n",
       "mean   49656.324000  19460.940000    1.368000  164.746000   74.093400   \n",
       "std    27694.652229   2444.264657    0.482744    8.017609   14.340822   \n",
       "min      172.000000  14319.000000    1.000000  144.000000   43.000000   \n",
       "25%    26990.500000  17804.000000    1.000000  159.000000   65.000000   \n",
       "50%    49225.500000  19669.000000    1.000000  165.000000   72.000000   \n",
       "75%    72126.500000  21326.250000    2.000000  170.000000   80.000000   \n",
       "max    99934.000000  23670.000000    2.000000  198.000000  160.000000   \n",
       "\n",
       "           ap_hi        ap_lo  cholesterol        gluc      smoke        alco  \\\n",
       "count  500.00000   500.000000   500.000000  500.000000  500.00000  500.000000   \n",
       "mean   127.91200    98.908000     1.338000    1.192000    0.07800    0.046000   \n",
       "std     40.82349   130.985839     0.651617    0.540111    0.26844    0.209695   \n",
       "min   -120.00000     0.000000     1.000000    1.000000    0.00000    0.000000   \n",
       "25%    120.00000    80.000000     1.000000    1.000000    0.00000    0.000000   \n",
       "50%    120.00000    80.000000     1.000000    1.000000    0.00000    0.000000   \n",
       "75%    140.00000    90.000000     1.000000    1.000000    0.00000    0.000000   \n",
       "max    907.00000  1200.000000     3.000000    3.000000    1.00000    1.000000   \n",
       "\n",
       "           active      cardio  \n",
       "count  500.000000  500.000000  \n",
       "mean     0.762000    0.492000  \n",
       "std      0.426286    0.500437  \n",
       "min      0.000000    0.000000  \n",
       "25%      1.000000    0.000000  \n",
       "50%      1.000000    0.000000  \n",
       "75%      1.000000    1.000000  \n",
       "max      1.000000    1.000000  "
      ]
     },
     "execution_count": 9,
     "metadata": {},
     "output_type": "execute_result"
    }
   ],
   "source": [
    "df.describe()"
   ]
  },
  {
   "cell_type": "markdown",
   "id": "159ec9ef",
   "metadata": {
    "id": "159ec9ef"
   },
   "source": [
    "⭐Let's get rid of the outliers, moreover blood pressure could not be negative value!"
   ]
  },
  {
   "cell_type": "code",
   "execution_count": 10,
   "id": "ZSzJb4qHKvgy",
   "metadata": {
    "executionInfo": {
     "elapsed": 233,
     "status": "ok",
     "timestamp": 1673272368657,
     "user": {
      "displayName": "Richard Thames",
      "userId": "00258987493291873022"
     },
     "user_tz": -180
    },
    "id": "ZSzJb4qHKvgy"
   },
   "outputs": [],
   "source": [
    "df.set_index(['id'], inplace=True)"
   ]
  },
  {
   "cell_type": "code",
   "execution_count": 11,
   "id": "CIfjYv_WLDwc",
   "metadata": {
    "colab": {
     "base_uri": "https://localhost:8080/",
     "height": 175
    },
    "executionInfo": {
     "elapsed": 244,
     "status": "ok",
     "timestamp": 1673272373662,
     "user": {
      "displayName": "Richard Thames",
      "userId": "00258987493291873022"
     },
     "user_tz": -180
    },
    "id": "CIfjYv_WLDwc",
    "outputId": "da77802e-a45e-40a9-f39b-e6c9eb379cac"
   },
   "outputs": [
    {
     "data": {
      "text/html": [
       "<div>\n",
       "<style scoped>\n",
       "    .dataframe tbody tr th:only-of-type {\n",
       "        vertical-align: middle;\n",
       "    }\n",
       "\n",
       "    .dataframe tbody tr th {\n",
       "        vertical-align: top;\n",
       "    }\n",
       "\n",
       "    .dataframe thead th {\n",
       "        text-align: right;\n",
       "    }\n",
       "</style>\n",
       "<table border=\"1\" class=\"dataframe\">\n",
       "  <thead>\n",
       "    <tr style=\"text-align: right;\">\n",
       "      <th></th>\n",
       "      <th>age</th>\n",
       "      <th>gender</th>\n",
       "      <th>height</th>\n",
       "      <th>weight</th>\n",
       "      <th>ap_hi</th>\n",
       "      <th>ap_lo</th>\n",
       "      <th>cholesterol</th>\n",
       "      <th>gluc</th>\n",
       "      <th>smoke</th>\n",
       "      <th>alco</th>\n",
       "      <th>active</th>\n",
       "      <th>cardio</th>\n",
       "    </tr>\n",
       "    <tr>\n",
       "      <th>id</th>\n",
       "      <th></th>\n",
       "      <th></th>\n",
       "      <th></th>\n",
       "      <th></th>\n",
       "      <th></th>\n",
       "      <th></th>\n",
       "      <th></th>\n",
       "      <th></th>\n",
       "      <th></th>\n",
       "      <th></th>\n",
       "      <th></th>\n",
       "      <th></th>\n",
       "    </tr>\n",
       "  </thead>\n",
       "  <tbody>\n",
       "    <tr>\n",
       "      <th>81136</th>\n",
       "      <td>59.56</td>\n",
       "      <td>1</td>\n",
       "      <td>171</td>\n",
       "      <td>69.0</td>\n",
       "      <td>120</td>\n",
       "      <td>80</td>\n",
       "      <td>2</td>\n",
       "      <td>2</td>\n",
       "      <td>0</td>\n",
       "      <td>0</td>\n",
       "      <td>0</td>\n",
       "      <td>0</td>\n",
       "    </tr>\n",
       "    <tr>\n",
       "      <th>63111</th>\n",
       "      <td>56.62</td>\n",
       "      <td>1</td>\n",
       "      <td>160</td>\n",
       "      <td>65.0</td>\n",
       "      <td>120</td>\n",
       "      <td>80</td>\n",
       "      <td>1</td>\n",
       "      <td>1</td>\n",
       "      <td>0</td>\n",
       "      <td>0</td>\n",
       "      <td>0</td>\n",
       "      <td>1</td>\n",
       "    </tr>\n",
       "    <tr>\n",
       "      <th>56811</th>\n",
       "      <td>45.95</td>\n",
       "      <td>2</td>\n",
       "      <td>159</td>\n",
       "      <td>95.0</td>\n",
       "      <td>120</td>\n",
       "      <td>80</td>\n",
       "      <td>1</td>\n",
       "      <td>1</td>\n",
       "      <td>0</td>\n",
       "      <td>0</td>\n",
       "      <td>1</td>\n",
       "      <td>1</td>\n",
       "    </tr>\n",
       "  </tbody>\n",
       "</table>\n",
       "</div>"
      ],
      "text/plain": [
       "         age  gender  height  weight  ap_hi  ap_lo  cholesterol  gluc  smoke  \\\n",
       "id                                                                             \n",
       "81136  59.56       1     171    69.0    120     80            2     2      0   \n",
       "63111  56.62       1     160    65.0    120     80            1     1      0   \n",
       "56811  45.95       2     159    95.0    120     80            1     1      0   \n",
       "\n",
       "       alco  active  cardio  \n",
       "id                           \n",
       "81136     0       0       0  \n",
       "63111     0       0       1  \n",
       "56811     0       1       1  "
      ]
     },
     "execution_count": 11,
     "metadata": {},
     "output_type": "execute_result"
    }
   ],
   "source": [
    "df[\"age\"] = np.round(df.age/365,2)\n",
    "df.head(3)"
   ]
  },
  {
   "cell_type": "code",
   "execution_count": 12,
   "id": "jy0T53oFK5QY",
   "metadata": {
    "colab": {
     "base_uri": "https://localhost:8080/",
     "height": 314
    },
    "executionInfo": {
     "elapsed": 778,
     "status": "ok",
     "timestamp": 1673272391973,
     "user": {
      "displayName": "Richard Thames",
      "userId": "00258987493291873022"
     },
     "user_tz": -180
    },
    "id": "jy0T53oFK5QY",
    "outputId": "41de9820-b3a8-4e25-b3cd-eb8949db4fb8"
   },
   "outputs": [
    {
     "data": {
      "image/png": "[encoded data removed]",
      "text/plain": [
       "<Figure size 800x400 with 1 Axes>"
      ]
     },
     "metadata": {},
     "output_type": "display_data"
    }
   ],
   "source": [
    " sns.displot(x=\"age\", height = 4, aspect = 2, data=df);"
   ]
  },
  {
   "cell_type": "code",
   "execution_count": 14,
   "id": "BBl4X0KfLIs1",
   "metadata": {
    "colab": {
     "base_uri": "https://localhost:8080/",
     "height": 1000
    },
    "executionInfo": {
     "elapsed": 5537,
     "status": "ok",
     "timestamp": 1673272403896,
     "user": {
      "displayName": "Richard Thames",
      "userId": "00258987493291873022"
     },
     "user_tz": -180
    },
    "id": "BBl4X0KfLIs1",
    "outputId": "8cc1e8a3-d623-4395-d581-fb0bf4dbd796"
   },
   "outputs": [
    {
     "data": {
      "image/png": "[encoded data removed]",
      "text/plain": [
       "<Figure size 800x400 with 1 Axes>"
      ]
     },
     "metadata": {},
     "output_type": "display_data"
    },
    {
     "data": {
      "image/png": "[encoded data removed]",
      "text/plain": [
       "<Figure size 800x400 with 1 Axes>"
      ]
     },
     "metadata": {},
     "output_type": "display_data"
    },
    {
     "data": {
      "image/png": "[encoded data removed]",
      "text/plain": [
       "<Figure size 800x400 with 1 Axes>"
      ]
     },
     "metadata": {},
     "output_type": "display_data"
    },
    {
     "data": {
      "image/png": "[encoded data removed]",
      "text/plain": [
       "<Figure size 800x400 with 1 Axes>"
      ]
     },
     "metadata": {},
     "output_type": "display_data"
    },
    {
     "data": {
      "image/png": "[encoded data removed]",
      "text/plain": [
       "<Figure size 800x400 with 1 Axes>"
      ]
     },
     "metadata": {},
     "output_type": "display_data"
    },
    {
     "data": {
      "image/png": "[encoded data removed]",
      "text/plain": [
       "<Figure size 800x400 with 1 Axes>"
      ]
     },
     "metadata": {},
     "output_type": "display_data"
    },
    {
     "data": {
      "image/png": "[encoded data removed]",
      "text/plain": [
       "<Figure size 800x400 with 1 Axes>"
      ]
     },
     "metadata": {},
     "output_type": "display_data"
    },
    {
     "data": {
      "image/png": "[encoded data removed]",
      "text/plain": [
       "<Figure size 800x400 with 1 Axes>"
      ]
     },
     "metadata": {},
     "output_type": "display_data"
    },
    {
     "data": {
      "image/png": "[encoded data removed]",
      "text/plain": [
       "<Figure size 800x400 with 1 Axes>"
      ]
     },
     "metadata": {},
     "output_type": "display_data"
    },
    {
     "data": {
      "image/png": "[encoded data removed]",
      "text/plain": [
       "<Figure size 800x400 with 1 Axes>"
      ]
     },
     "metadata": {},
     "output_type": "display_data"
    },
    {
     "data": {
      "image/png": "[encoded data removed]",
      "text/plain": [
       "<Figure size 800x400 with 1 Axes>"
      ]
     },
     "metadata": {},
     "output_type": "display_data"
    },
    {
     "data": {
      "image/png": "[encoded data removed]",
      "text/plain": [
       "<Figure size 800x400 with 1 Axes>"
      ]
     },
     "metadata": {},
     "output_type": "display_data"
    }
   ],
   "source": [
    "for col in df.columns:\n",
    "  sns.displot(x=col, height = 4, aspect = 2, data=df)"
   ]
  },
  {
   "cell_type": "code",
   "execution_count": 15,
   "id": "M1ZmiTycLIwZ",
   "metadata": {
    "colab": {
     "base_uri": "https://localhost:8080/",
     "height": 280
    },
    "executionInfo": {
     "elapsed": 260,
     "status": "ok",
     "timestamp": 1673272540255,
     "user": {
      "displayName": "Richard Thames",
      "userId": "00258987493291873022"
     },
     "user_tz": -180
    },
    "id": "M1ZmiTycLIwZ",
    "outputId": "466627ec-a579-4171-cb06-c9af92241faa"
   },
   "outputs": [
    {
     "data": {
      "image/png": "[encoded data removed]",
      "text/plain": [
       "<Figure size 640x480 with 1 Axes>"
      ]
     },
     "metadata": {},
     "output_type": "display_data"
    }
   ],
   "source": [
    "sns.boxplot(x=\"ap_hi\", data=df);"
   ]
  },
  {
   "cell_type": "code",
   "execution_count": 16,
   "id": "eXhkpXsIMKWn",
   "metadata": {
    "executionInfo": {
     "elapsed": 3,
     "status": "ok",
     "timestamp": 1673272616797,
     "user": {
      "displayName": "Richard Thames",
      "userId": "00258987493291873022"
     },
     "user_tz": -180
    },
    "id": "eXhkpXsIMKWn"
   },
   "outputs": [],
   "source": [
    "df = df[df['ap_hi'] < 300 ]\n",
    "df = df[df['ap_hi'] > 0 ]"
   ]
  },
  {
   "cell_type": "code",
   "execution_count": 17,
   "id": "VzPGT1VQMqzX",
   "metadata": {
    "colab": {
     "base_uri": "https://localhost:8080/",
     "height": 280
    },
    "executionInfo": {
     "elapsed": 491,
     "status": "ok",
     "timestamp": 1673272618269,
     "user": {
      "displayName": "Richard Thames",
      "userId": "00258987493291873022"
     },
     "user_tz": -180
    },
    "id": "VzPGT1VQMqzX",
    "outputId": "f0b9fba4-cd4f-4b65-e03d-62eb6db7ff63"
   },
   "outputs": [
    {
     "data": {
      "image/png": "[encoded data removed]",
      "text/plain": [
       "<Figure size 640x480 with 1 Axes>"
      ]
     },
     "metadata": {},
     "output_type": "display_data"
    }
   ],
   "source": [
    "sns.boxplot(x=\"ap_hi\", data=df);"
   ]
  },
  {
   "cell_type": "code",
   "execution_count": 18,
   "id": "OgI7TF-ROKgZ",
   "metadata": {
    "colab": {
     "base_uri": "https://localhost:8080/",
     "height": 280
    },
    "executionInfo": {
     "elapsed": 248,
     "status": "ok",
     "timestamp": 1673272621522,
     "user": {
      "displayName": "Richard Thames",
      "userId": "00258987493291873022"
     },
     "user_tz": -180
    },
    "id": "OgI7TF-ROKgZ",
    "outputId": "46aef413-11b0-451f-dff9-37744e3ab3d3"
   },
   "outputs": [
    {
     "data": {
      "image/png": "[encoded data removed]",
      "text/plain": [
       "<Figure size 640x480 with 1 Axes>"
      ]
     },
     "metadata": {},
     "output_type": "display_data"
    }
   ],
   "source": [
    "sns.boxplot(x=\"ap_lo\", data=df);"
   ]
  },
  {
   "cell_type": "code",
   "execution_count": 19,
   "id": "BKVrbVsXOZ51",
   "metadata": {
    "executionInfo": {
     "elapsed": 251,
     "status": "ok",
     "timestamp": 1673272627695,
     "user": {
      "displayName": "Richard Thames",
      "userId": "00258987493291873022"
     },
     "user_tz": -180
    },
    "id": "BKVrbVsXOZ51"
   },
   "outputs": [],
   "source": [
    "df = df[df['ap_lo'] < 250 ]\n",
    "df = df[df['ap_lo'] > 0 ]"
   ]
  },
  {
   "cell_type": "code",
   "execution_count": 20,
   "id": "SrwUQN9jOgUJ",
   "metadata": {
    "colab": {
     "base_uri": "https://localhost:8080/",
     "height": 280
    },
    "executionInfo": {
     "elapsed": 281,
     "status": "ok",
     "timestamp": 1673272629241,
     "user": {
      "displayName": "Richard Thames",
      "userId": "00258987493291873022"
     },
     "user_tz": -180
    },
    "id": "SrwUQN9jOgUJ",
    "outputId": "57772b14-4543-4e34-e560-ffe6f879c65f"
   },
   "outputs": [
    {
     "data": {
      "image/png": "[encoded data removed]",
      "text/plain": [
       "<Figure size 640x480 with 1 Axes>"
      ]
     },
     "metadata": {},
     "output_type": "display_data"
    }
   ],
   "source": [
    "sns.boxplot(x=\"ap_lo\", data=df);"
   ]
  },
  {
   "cell_type": "code",
   "execution_count": 21,
   "id": "-6twZSv11T3f",
   "metadata": {
    "colab": {
     "base_uri": "https://localhost:8080/",
     "height": 364
    },
    "executionInfo": {
     "elapsed": 260,
     "status": "ok",
     "timestamp": 1673272640226,
     "user": {
      "displayName": "Richard Thames",
      "userId": "00258987493291873022"
     },
     "user_tz": -180
    },
    "id": "-6twZSv11T3f",
    "outputId": "d2d67065-43b0-46f5-f7e4-867d45749e97"
   },
   "outputs": [
    {
     "data": {
      "text/html": [
       "<div>\n",
       "<style scoped>\n",
       "    .dataframe tbody tr th:only-of-type {\n",
       "        vertical-align: middle;\n",
       "    }\n",
       "\n",
       "    .dataframe tbody tr th {\n",
       "        vertical-align: top;\n",
       "    }\n",
       "\n",
       "    .dataframe thead th {\n",
       "        text-align: right;\n",
       "    }\n",
       "</style>\n",
       "<table border=\"1\" class=\"dataframe\">\n",
       "  <thead>\n",
       "    <tr style=\"text-align: right;\">\n",
       "      <th></th>\n",
       "      <th>age</th>\n",
       "      <th>gender</th>\n",
       "      <th>height</th>\n",
       "      <th>weight</th>\n",
       "      <th>ap_hi</th>\n",
       "      <th>ap_lo</th>\n",
       "      <th>cholesterol</th>\n",
       "      <th>gluc</th>\n",
       "      <th>smoke</th>\n",
       "      <th>alco</th>\n",
       "      <th>active</th>\n",
       "      <th>cardio</th>\n",
       "    </tr>\n",
       "  </thead>\n",
       "  <tbody>\n",
       "    <tr>\n",
       "      <th>count</th>\n",
       "      <td>488.000000</td>\n",
       "      <td>488.000000</td>\n",
       "      <td>488.000000</td>\n",
       "      <td>488.000000</td>\n",
       "      <td>488.000000</td>\n",
       "      <td>488.00000</td>\n",
       "      <td>488.000000</td>\n",
       "      <td>488.000000</td>\n",
       "      <td>488.000000</td>\n",
       "      <td>488.000000</td>\n",
       "      <td>488.000000</td>\n",
       "      <td>488.000000</td>\n",
       "    </tr>\n",
       "    <tr>\n",
       "      <th>mean</th>\n",
       "      <td>53.361086</td>\n",
       "      <td>1.366803</td>\n",
       "      <td>164.809426</td>\n",
       "      <td>74.060861</td>\n",
       "      <td>126.288934</td>\n",
       "      <td>80.67418</td>\n",
       "      <td>1.334016</td>\n",
       "      <td>1.186475</td>\n",
       "      <td>0.077869</td>\n",
       "      <td>0.047131</td>\n",
       "      <td>0.764344</td>\n",
       "      <td>0.483607</td>\n",
       "    </tr>\n",
       "    <tr>\n",
       "      <th>std</th>\n",
       "      <td>6.697971</td>\n",
       "      <td>0.482427</td>\n",
       "      <td>8.025278</td>\n",
       "      <td>14.363246</td>\n",
       "      <td>17.540932</td>\n",
       "      <td>9.28769</td>\n",
       "      <td>0.648098</td>\n",
       "      <td>0.532382</td>\n",
       "      <td>0.268240</td>\n",
       "      <td>0.212137</td>\n",
       "      <td>0.424843</td>\n",
       "      <td>0.500244</td>\n",
       "    </tr>\n",
       "    <tr>\n",
       "      <th>min</th>\n",
       "      <td>39.230000</td>\n",
       "      <td>1.000000</td>\n",
       "      <td>144.000000</td>\n",
       "      <td>43.000000</td>\n",
       "      <td>12.000000</td>\n",
       "      <td>50.00000</td>\n",
       "      <td>1.000000</td>\n",
       "      <td>1.000000</td>\n",
       "      <td>0.000000</td>\n",
       "      <td>0.000000</td>\n",
       "      <td>0.000000</td>\n",
       "      <td>0.000000</td>\n",
       "    </tr>\n",
       "    <tr>\n",
       "      <th>25%</th>\n",
       "      <td>48.827500</td>\n",
       "      <td>1.000000</td>\n",
       "      <td>159.000000</td>\n",
       "      <td>65.000000</td>\n",
       "      <td>120.000000</td>\n",
       "      <td>80.00000</td>\n",
       "      <td>1.000000</td>\n",
       "      <td>1.000000</td>\n",
       "      <td>0.000000</td>\n",
       "      <td>0.000000</td>\n",
       "      <td>1.000000</td>\n",
       "      <td>0.000000</td>\n",
       "    </tr>\n",
       "    <tr>\n",
       "      <th>50%</th>\n",
       "      <td>53.895000</td>\n",
       "      <td>1.000000</td>\n",
       "      <td>165.000000</td>\n",
       "      <td>72.000000</td>\n",
       "      <td>120.000000</td>\n",
       "      <td>80.00000</td>\n",
       "      <td>1.000000</td>\n",
       "      <td>1.000000</td>\n",
       "      <td>0.000000</td>\n",
       "      <td>0.000000</td>\n",
       "      <td>1.000000</td>\n",
       "      <td>0.000000</td>\n",
       "    </tr>\n",
       "    <tr>\n",
       "      <th>75%</th>\n",
       "      <td>58.492500</td>\n",
       "      <td>2.000000</td>\n",
       "      <td>170.000000</td>\n",
       "      <td>80.000000</td>\n",
       "      <td>140.000000</td>\n",
       "      <td>81.00000</td>\n",
       "      <td>1.000000</td>\n",
       "      <td>1.000000</td>\n",
       "      <td>0.000000</td>\n",
       "      <td>0.000000</td>\n",
       "      <td>1.000000</td>\n",
       "      <td>1.000000</td>\n",
       "    </tr>\n",
       "    <tr>\n",
       "      <th>max</th>\n",
       "      <td>64.850000</td>\n",
       "      <td>2.000000</td>\n",
       "      <td>198.000000</td>\n",
       "      <td>160.000000</td>\n",
       "      <td>180.000000</td>\n",
       "      <td>120.00000</td>\n",
       "      <td>3.000000</td>\n",
       "      <td>3.000000</td>\n",
       "      <td>1.000000</td>\n",
       "      <td>1.000000</td>\n",
       "      <td>1.000000</td>\n",
       "      <td>1.000000</td>\n",
       "    </tr>\n",
       "  </tbody>\n",
       "</table>\n",
       "</div>"
      ],
      "text/plain": [
       "              age      gender      height      weight       ap_hi      ap_lo  \\\n",
       "count  488.000000  488.000000  488.000000  488.000000  488.000000  488.00000   \n",
       "mean    53.361086    1.366803  164.809426   74.060861  126.288934   80.67418   \n",
       "std      6.697971    0.482427    8.025278   14.363246   17.540932    9.28769   \n",
       "min     39.230000    1.000000  144.000000   43.000000   12.000000   50.00000   \n",
       "25%     48.827500    1.000000  159.000000   65.000000  120.000000   80.00000   \n",
       "50%     53.895000    1.000000  165.000000   72.000000  120.000000   80.00000   \n",
       "75%     58.492500    2.000000  170.000000   80.000000  140.000000   81.00000   \n",
       "max     64.850000    2.000000  198.000000  160.000000  180.000000  120.00000   \n",
       "\n",
       "       cholesterol        gluc       smoke        alco      active      cardio  \n",
       "count   488.000000  488.000000  488.000000  488.000000  488.000000  488.000000  \n",
       "mean      1.334016    1.186475    0.077869    0.047131    0.764344    0.483607  \n",
       "std       0.648098    0.532382    0.268240    0.212137    0.424843    0.500244  \n",
       "min       1.000000    1.000000    0.000000    0.000000    0.000000    0.000000  \n",
       "25%       1.000000    1.000000    0.000000    0.000000    1.000000    0.000000  \n",
       "50%       1.000000    1.000000    0.000000    0.000000    1.000000    0.000000  \n",
       "75%       1.000000    1.000000    0.000000    0.000000    1.000000    1.000000  \n",
       "max       3.000000    3.000000    1.000000    1.000000    1.000000    1.000000  "
      ]
     },
     "execution_count": 21,
     "metadata": {},
     "output_type": "execute_result"
    }
   ],
   "source": [
    "df.describe()"
   ]
  },
  {
   "cell_type": "markdown",
   "id": "fb035634",
   "metadata": {
    "id": "fb035634"
   },
   "source": [
    "## Task-1. Is the Systolic blood pressure population mean 122mmhg?"
   ]
  },
  {
   "cell_type": "markdown",
   "id": "604a6bbe",
   "metadata": {
    "id": "604a6bbe"
   },
   "source": [
    "ap_hi => It's the Systolic blood pressure i.e. Pressure exerted when Blood is ejected in arteries. Normal value : 122 mm Hg for all adults aged 18 and over"
   ]
  },
  {
   "cell_type": "markdown",
   "id": "bb6ca4cf",
   "metadata": {
    "id": "bb6ca4cf"
   },
   "source": [
    "⭐What is the mean for Systolic blood pressure?"
   ]
  },
  {
   "cell_type": "code",
   "execution_count": 25,
   "id": "1f89827d",
   "metadata": {},
   "outputs": [
    {
     "data": {
      "text/plain": [
       "(488, 12)"
      ]
     },
     "execution_count": 25,
     "metadata": {},
     "output_type": "execute_result"
    }
   ],
   "source": [
    "df.shape"
   ]
  },
  {
   "cell_type": "code",
   "execution_count": 22,
   "id": "5bc33ad7",
   "metadata": {
    "colab": {
     "base_uri": "https://localhost:8080/"
    },
    "executionInfo": {
     "elapsed": 259,
     "status": "ok",
     "timestamp": 1673272677953,
     "user": {
      "displayName": "Richard Thames",
      "userId": "00258987493291873022"
     },
     "user_tz": -180
    },
    "id": "5bc33ad7",
    "outputId": "0a1faf31-e9a7-4612-a5e6-860c4f59f4d4"
   },
   "outputs": [
    {
     "data": {
      "text/plain": [
       "126.2889344262295"
      ]
     },
     "execution_count": 22,
     "metadata": {},
     "output_type": "execute_result"
    }
   ],
   "source": [
    "df.ap_hi.mean()"
   ]
  },
  {
   "cell_type": "markdown",
   "id": "KX4IjRriZzAi",
   "metadata": {
    "id": "KX4IjRriZzAi"
   },
   "source": [
    "⭐What is the std dev. for Systolic blood pressure?"
   ]
  },
  {
   "cell_type": "code",
   "execution_count": 23,
   "id": "69d481ee",
   "metadata": {
    "colab": {
     "base_uri": "https://localhost:8080/"
    },
    "executionInfo": {
     "elapsed": 247,
     "status": "ok",
     "timestamp": 1673272680290,
     "user": {
      "displayName": "Richard Thames",
      "userId": "00258987493291873022"
     },
     "user_tz": -180
    },
    "id": "69d481ee",
    "outputId": "cac51a9c-940c-455d-fcb7-c28fa4c8dda3"
   },
   "outputs": [
    {
     "data": {
      "text/plain": [
       "17.540932490033743"
      ]
     },
     "execution_count": 23,
     "metadata": {},
     "output_type": "execute_result"
    }
   ],
   "source": [
    "df.ap_hi.std()"
   ]
  },
  {
   "cell_type": "markdown",
   "id": "uUV8XmvbZ2aI",
   "metadata": {
    "id": "uUV8XmvbZ2aI"
   },
   "source": [
    "⭐What is the standard error of the mean for Systolic blood pressure?"
   ]
  },
  {
   "cell_type": "code",
   "execution_count": 26,
   "id": "135778c0",
   "metadata": {
    "colab": {
     "base_uri": "https://localhost:8080/"
    },
    "executionInfo": {
     "elapsed": 269,
     "status": "ok",
     "timestamp": 1673272682240,
     "user": {
      "displayName": "Richard Thames",
      "userId": "00258987493291873022"
     },
     "user_tz": -180
    },
    "id": "135778c0",
    "outputId": "c7817d94-896c-4824-cfb5-4695a8e492d5"
   },
   "outputs": [
    {
     "data": {
      "text/plain": [
       "0.7940407046333285"
      ]
     },
     "execution_count": 26,
     "metadata": {},
     "output_type": "execute_result"
    }
   ],
   "source": [
    "df.ap_hi.sem()"
   ]
  },
  {
   "cell_type": "code",
   "execution_count": null,
   "id": "6ZljqAsJaKLy",
   "metadata": {
    "id": "6ZljqAsJaKLy"
   },
   "outputs": [],
   "source": [
    "#df.ap_hi.std()/np.sqrt(df.shape[0])"
   ]
  },
  {
   "cell_type": "code",
   "execution_count": 27,
   "id": "Ev1UjGt612ks",
   "metadata": {
    "colab": {
     "base_uri": "https://localhost:8080/",
     "height": 386
    },
    "executionInfo": {
     "elapsed": 888,
     "status": "ok",
     "timestamp": 1673272691483,
     "user": {
      "displayName": "Richard Thames",
      "userId": "00258987493291873022"
     },
     "user_tz": -180
    },
    "id": "Ev1UjGt612ks",
    "outputId": "bf9e981e-f34a-46eb-f74d-00e92dc28e5d"
   },
   "outputs": [
    {
     "data": {
      "text/plain": [
       "<seaborn.axisgrid.FacetGrid at 0x7fc020974eb0>"
      ]
     },
     "execution_count": 27,
     "metadata": {},
     "output_type": "execute_result"
    },
    {
     "data": {
      "image/png": "[encoded data removed]",
      "text/plain": [
       "<Figure size 500x500 with 1 Axes>"
      ]
     },
     "metadata": {},
     "output_type": "display_data"
    }
   ],
   "source": [
    "sns.displot(x=\"ap_hi\",  kind=\"kde\", data= df)"
   ]
  },
  {
   "cell_type": "markdown",
   "id": "hDiz0Xf6KRt7",
   "metadata": {
    "id": "hDiz0Xf6KRt7"
   },
   "source": [
    "⭐What are the descriptive statistics of the mean for Systolic blood pressure?"
   ]
  },
  {
   "cell_type": "code",
   "execution_count": 31,
   "id": "8c5bb6c4",
   "metadata": {
    "colab": {
     "base_uri": "https://localhost:8080/"
    },
    "executionInfo": {
     "elapsed": 258,
     "status": "ok",
     "timestamp": 1673272704663,
     "user": {
      "displayName": "Richard Thames",
      "userId": "00258987493291873022"
     },
     "user_tz": -180
    },
    "id": "8c5bb6c4",
    "outputId": "cc1d7617-898f-4129-ece8-4fc8e9c30344"
   },
   "outputs": [
    {
     "data": {
      "text/plain": [
       "count    487.000000\n",
       "mean     126.523614\n",
       "std       16.774557\n",
       "min       90.000000\n",
       "25%      120.000000\n",
       "50%      120.000000\n",
       "75%      140.000000\n",
       "max      180.000000\n",
       "Name: ap_hi, dtype: float64"
      ]
     },
     "execution_count": 31,
     "metadata": {},
     "output_type": "execute_result"
    }
   ],
   "source": [
    "df.ap_hi.describe()"
   ]
  },
  {
   "cell_type": "markdown",
   "id": "70b4dcd2",
   "metadata": {
    "id": "70b4dcd2"
   },
   "source": [
    "## Confidence Interval using the t Distribution\n",
    "\n",
    "Key Notes about Confidence Intervals\n",
    "\n",
    "💡A point estimate is a single number.\n",
    "\n",
    "💡A confidence interval, naturally, is an interval.\n",
    "\n",
    "💡Confidence intervals are the typical way to present estimates as an interval range.\n",
    "\n",
    "💡The point estimate is located exactly in the middle of the confidence interval.\n",
    "\n",
    "💡However, confidence intervals provide much more information and are preferred when making inferences.\n",
    "\n",
    "💡The more data you have, the less variable a sample estimate will be.\n",
    "\n",
    "💡The lower the level of confidence you can tolerate, the narrower the confidence interval will be.\n",
    "\n",
    "⭐Investigate the given task by calculating the confidence interval. (Use 90%, 95% and 99% CIs)"
   ]
  },
  {
   "cell_type": "code",
   "execution_count": 28,
   "id": "86530d0e",
   "metadata": {
    "colab": {
     "base_uri": "https://localhost:8080/"
    },
    "executionInfo": {
     "elapsed": 269,
     "status": "ok",
     "timestamp": 1673272744225,
     "user": {
      "displayName": "Richard Thames",
      "userId": "00258987493291873022"
     },
     "user_tz": -180
    },
    "id": "86530d0e",
    "outputId": "36ad137f-bdc4-42ac-a676-b2b91fdb03e5"
   },
   "outputs": [
    {
     "data": {
      "text/plain": [
       "(124.72876584967166, 127.84910300278734)"
      ]
     },
     "execution_count": 28,
     "metadata": {},
     "output_type": "execute_result"
    }
   ],
   "source": [
    "#95% Confidence Interval\n",
    "stats.t.interval(0.95, len(df.ap_hi)-1, loc=df.ap_hi.mean(), scale=df.ap_hi.sem())"
   ]
  },
  {
   "cell_type": "markdown",
   "id": "b8ea993c",
   "metadata": {
    "id": "b8ea993c"
   },
   "source": [
    "## One Sample t Test"
   ]
  },
  {
   "cell_type": "markdown",
   "id": "3b0b1513",
   "metadata": {
    "id": "3b0b1513"
   },
   "source": [
    "⭐Investigate the given task by using One Sample t Test.\n",
    "\n",
    "Key Notes about Hypothesis Testing (Significance Testing)\n",
    "\n",
    "💡Assumptions\n",
    "\n",
    "💡Null and Alternative Hypothesis\n",
    "\n",
    "💡Test Statistic\n",
    "\n",
    "💡P-value\n",
    "\n",
    "💡Conclusion"
   ]
  },
  {
   "cell_type": "markdown",
   "id": "815c7c17",
   "metadata": {
    "id": "815c7c17"
   },
   "source": [
    "Conduct the significance test. Use scipy.stats.ttest_1samp"
   ]
  },
  {
   "cell_type": "code",
   "execution_count": 33,
   "id": "PECxQl-w4Kor",
   "metadata": {
    "executionInfo": {
     "elapsed": 248,
     "status": "ok",
     "timestamp": 1673272822090,
     "user": {
      "displayName": "Richard Thames",
      "userId": "00258987493291873022"
     },
     "user_tz": -180
    },
    "id": "PECxQl-w4Kor"
   },
   "outputs": [],
   "source": [
    "# Ho: mu=122\n",
    "# Ha: mu!=122"
   ]
  },
  {
   "cell_type": "code",
   "execution_count": 34,
   "id": "6231ec49",
   "metadata": {
    "colab": {
     "base_uri": "https://localhost:8080/"
    },
    "executionInfo": {
     "elapsed": 2,
     "status": "ok",
     "timestamp": 1673272823359,
     "user": {
      "displayName": "Richard Thames",
      "userId": "00258987493291873022"
     },
     "user_tz": -180
    },
    "id": "6231ec49",
    "outputId": "117a1134-a497-4883-a43d-964c1013511f"
   },
   "outputs": [
    {
     "data": {
      "text/plain": [
       "Ttest_1sampResult(statistic=5.951123462662829, pvalue=5.102424202695027e-09)"
      ]
     },
     "execution_count": 34,
     "metadata": {},
     "output_type": "execute_result"
    }
   ],
   "source": [
    "oneSamp = stats.ttest_1samp(df.ap_hi, 122)\n",
    "oneSamp"
   ]
  },
  {
   "cell_type": "code",
   "execution_count": 35,
   "id": "c6343ddb",
   "metadata": {
    "colab": {
     "base_uri": "https://localhost:8080/"
    },
    "executionInfo": {
     "elapsed": 241,
     "status": "ok",
     "timestamp": 1673272834187,
     "user": {
      "displayName": "Richard Thames",
      "userId": "00258987493291873022"
     },
     "user_tz": -180
    },
    "id": "c6343ddb",
    "outputId": "b0a0a3aa-56a0-41b8-80e7-916eb59c31e1"
   },
   "outputs": [
    {
     "name": "stdout",
     "output_type": "stream",
     "text": [
      "Reject the null\n"
     ]
    }
   ],
   "source": [
    "# Compare p-value and alpha\n",
    "alpha = 0.05\n",
    "\n",
    "if oneSamp.pvalue < alpha:\n",
    "    print(\"Reject the null\")\n",
    "else:\n",
    "    print(\"Fail to reject the null\")"
   ]
  },
  {
   "cell_type": "markdown",
   "id": "e273e0c2",
   "metadata": {
    "id": "e273e0c2"
   },
   "source": [
    "## Task-2. Is There a Significant Difference Between Males and Females in Systolic Blood Pressure?\n",
    "\n",
    "H0: µ1 = µ2 (\"the two population means are equal\")\n",
    "\n",
    "H1: µ1 ≠ µ2 (\"the two population means are not equal\")"
   ]
  },
  {
   "cell_type": "markdown",
   "id": "f924f82e",
   "metadata": {
    "id": "f924f82e"
   },
   "source": [
    "⭐Show descriptives for 2 groups"
   ]
  },
  {
   "cell_type": "code",
   "execution_count": 29,
   "id": "a6398b26",
   "metadata": {
    "colab": {
     "base_uri": "https://localhost:8080/",
     "height": 143
    },
    "executionInfo": {
     "elapsed": 263,
     "status": "ok",
     "timestamp": 1673272839633,
     "user": {
      "displayName": "Richard Thames",
      "userId": "00258987493291873022"
     },
     "user_tz": -180
    },
    "id": "a6398b26",
    "outputId": "6353f296-bc3f-4649-c463-b4442e28e9b6"
   },
   "outputs": [
    {
     "data": {
      "text/html": [
       "<div>\n",
       "<style scoped>\n",
       "    .dataframe tbody tr th:only-of-type {\n",
       "        vertical-align: middle;\n",
       "    }\n",
       "\n",
       "    .dataframe tbody tr th {\n",
       "        vertical-align: top;\n",
       "    }\n",
       "\n",
       "    .dataframe thead th {\n",
       "        text-align: right;\n",
       "    }\n",
       "</style>\n",
       "<table border=\"1\" class=\"dataframe\">\n",
       "  <thead>\n",
       "    <tr style=\"text-align: right;\">\n",
       "      <th></th>\n",
       "      <th>count</th>\n",
       "      <th>mean</th>\n",
       "      <th>std</th>\n",
       "      <th>min</th>\n",
       "      <th>25%</th>\n",
       "      <th>50%</th>\n",
       "      <th>75%</th>\n",
       "      <th>max</th>\n",
       "    </tr>\n",
       "    <tr>\n",
       "      <th>gender</th>\n",
       "      <th></th>\n",
       "      <th></th>\n",
       "      <th></th>\n",
       "      <th></th>\n",
       "      <th></th>\n",
       "      <th></th>\n",
       "      <th></th>\n",
       "      <th></th>\n",
       "    </tr>\n",
       "  </thead>\n",
       "  <tbody>\n",
       "    <tr>\n",
       "      <th>1</th>\n",
       "      <td>309.0</td>\n",
       "      <td>125.288026</td>\n",
       "      <td>18.360333</td>\n",
       "      <td>12.0</td>\n",
       "      <td>120.0</td>\n",
       "      <td>120.0</td>\n",
       "      <td>130.0</td>\n",
       "      <td>180.0</td>\n",
       "    </tr>\n",
       "    <tr>\n",
       "      <th>2</th>\n",
       "      <td>179.0</td>\n",
       "      <td>128.016760</td>\n",
       "      <td>15.930141</td>\n",
       "      <td>90.0</td>\n",
       "      <td>120.0</td>\n",
       "      <td>120.0</td>\n",
       "      <td>140.0</td>\n",
       "      <td>180.0</td>\n",
       "    </tr>\n",
       "  </tbody>\n",
       "</table>\n",
       "</div>"
      ],
      "text/plain": [
       "        count        mean        std   min    25%    50%    75%    max\n",
       "gender                                                                \n",
       "1       309.0  125.288026  18.360333  12.0  120.0  120.0  130.0  180.0\n",
       "2       179.0  128.016760  15.930141  90.0  120.0  120.0  140.0  180.0"
      ]
     },
     "execution_count": 29,
     "metadata": {},
     "output_type": "execute_result"
    }
   ],
   "source": [
    "df.groupby(\"gender\").describe()[\"ap_hi\"]"
   ]
  },
  {
   "cell_type": "markdown",
   "id": "84bd1c6e",
   "metadata": {
    "id": "84bd1c6e"
   },
   "source": [
    "___🚀Test the assumption of homogeneity of variance Hint: Levene’s Test\n",
    "\n",
    "The hypotheses for Levene’s test are:\n",
    "\n",
    "H0: \"the population variances of group 1 and 2 are equal\"\n",
    "\n",
    "H1: \"the population variances of group 1 and 2 are not equal\""
   ]
  },
  {
   "cell_type": "code",
   "execution_count": 30,
   "id": "e6ea62f8",
   "metadata": {
    "colab": {
     "base_uri": "https://localhost:8080/"
    },
    "executionInfo": {
     "elapsed": 261,
     "status": "ok",
     "timestamp": 1673272859899,
     "user": {
      "displayName": "Richard Thames",
      "userId": "00258987493291873022"
     },
     "user_tz": -180
    },
    "id": "e6ea62f8",
    "outputId": "3f2462a3-9f1e-44fc-81e8-0f7f3920b962"
   },
   "outputs": [
    {
     "name": "stdout",
     "output_type": "stream",
     "text": [
      "Statistics=0.105, p=0.747\n",
      "The population variances of group 1 and 2 are equal (fail to reject H0)\n"
     ]
    }
   ],
   "source": [
    "stat, p = stats.levene(df[df[\"gender\"]==1][\"ap_hi\"],df[df[\"gender\"]==2][\"ap_hi\"])\n",
    "\n",
    "print('Statistics=%.3f, p=%.3f' % (stat, p))\n",
    "# interpret\n",
    "alpha = 0.05\n",
    "if p > alpha:\n",
    "\tprint('The population variances of group 1 and 2 are equal (fail to reject H0)')\n",
    "else:\n",
    "\tprint('The population variances of group 1 and 2 are not equal (reject H0)')"
   ]
  },
  {
   "cell_type": "markdown",
   "id": "4c7bfaf0",
   "metadata": {
    "id": "4c7bfaf0"
   },
   "source": [
    "___🚀Conduct the significance test. Use scipy.stats.ttest_ind\n",
    "\n",
    "H0: µ1 = µ2 (\"the two population means are equal\")\n",
    "\n",
    "H1: µ1 ≠ µ2 (\"the two population means are not equal\")"
   ]
  },
  {
   "cell_type": "code",
   "execution_count": 31,
   "id": "4c0b1baa",
   "metadata": {
    "colab": {
     "base_uri": "https://localhost:8080/"
    },
    "executionInfo": {
     "elapsed": 250,
     "status": "ok",
     "timestamp": 1673272881626,
     "user": {
      "displayName": "Richard Thames",
      "userId": "00258987493291873022"
     },
     "user_tz": -180
    },
    "id": "4c0b1baa",
    "outputId": "b1ac6abd-d802-4a4d-fad4-f19b231a1758"
   },
   "outputs": [
    {
     "data": {
      "text/plain": [
       "Ttest_indResult(statistic=-1.659145539707629, pvalue=0.09773160551881048)"
      ]
     },
     "execution_count": 31,
     "metadata": {},
     "output_type": "execute_result"
    }
   ],
   "source": [
    "stats.ttest_ind(df[df[\"gender\"]==1][\"ap_hi\"],df[df[\"gender\"]==2][\"ap_hi\"], equal_var = True)"
   ]
  },
  {
   "cell_type": "code",
   "execution_count": 39,
   "id": "3Uyp9pE5TncB",
   "metadata": {
    "executionInfo": {
     "elapsed": 3,
     "status": "ok",
     "timestamp": 1673272920051,
     "user": {
      "displayName": "Richard Thames",
      "userId": "00258987493291873022"
     },
     "user_tz": -180
    },
    "id": "3Uyp9pE5TncB"
   },
   "outputs": [],
   "source": [
    "#Fail to reject Ho. The two population means are equal"
   ]
  },
  {
   "cell_type": "markdown",
   "id": "b649ecf9",
   "metadata": {
    "id": "b649ecf9"
   },
   "source": [
    "## Task-3. Is There a Relationship Between Glucose and Systolic Blood Pressure?"
   ]
  },
  {
   "cell_type": "markdown",
   "id": "iQnNlpE2nXym",
   "metadata": {
    "id": "iQnNlpE2nXym"
   },
   "source": [
    "⭐Draw a boxplot to see the relationship."
   ]
  },
  {
   "cell_type": "code",
   "execution_count": 32,
   "id": "2UnmxXET5U-1",
   "metadata": {
    "colab": {
     "base_uri": "https://localhost:8080/",
     "height": 279
    },
    "executionInfo": {
     "elapsed": 263,
     "status": "ok",
     "timestamp": 1673272980206,
     "user": {
      "displayName": "Richard Thames",
      "userId": "00258987493291873022"
     },
     "user_tz": -180
    },
    "id": "2UnmxXET5U-1",
    "outputId": "43e03190-ad6d-4c78-d3f0-fd30ea5e7552"
   },
   "outputs": [
    {
     "data": {
      "image/png": "[encoded data removed]",
      "text/plain": [
       "<Figure size 640x480 with 1 Axes>"
      ]
     },
     "metadata": {},
     "output_type": "display_data"
    }
   ],
   "source": [
    "sns.boxplot(x=\"gluc\", y=\"ap_hi\",  data=df);"
   ]
  },
  {
   "cell_type": "code",
   "execution_count": null,
   "id": "_ROdxQ7riGxk",
   "metadata": {
    "id": "_ROdxQ7riGxk"
   },
   "outputs": [],
   "source": [
    "# Ho: All means are, equal.\n",
    "# H1: At least one of the means are different."
   ]
  },
  {
   "cell_type": "markdown",
   "id": "R5W3NypFniN_",
   "metadata": {
    "id": "R5W3NypFniN_"
   },
   "source": [
    "⭐Show the descriptive statistics of 3 groups."
   ]
  },
  {
   "cell_type": "code",
   "execution_count": 33,
   "id": "c48159b9",
   "metadata": {
    "colab": {
     "base_uri": "https://localhost:8080/",
     "height": 175
    },
    "executionInfo": {
     "elapsed": 251,
     "status": "ok",
     "timestamp": 1673273057364,
     "user": {
      "displayName": "Richard Thames",
      "userId": "00258987493291873022"
     },
     "user_tz": -180
    },
    "id": "c48159b9",
    "outputId": "56c90825-9770-4332-cbc8-6447ae614d5c"
   },
   "outputs": [
    {
     "data": {
      "text/html": [
       "<div>\n",
       "<style scoped>\n",
       "    .dataframe tbody tr th:only-of-type {\n",
       "        vertical-align: middle;\n",
       "    }\n",
       "\n",
       "    .dataframe tbody tr th {\n",
       "        vertical-align: top;\n",
       "    }\n",
       "\n",
       "    .dataframe thead th {\n",
       "        text-align: right;\n",
       "    }\n",
       "</style>\n",
       "<table border=\"1\" class=\"dataframe\">\n",
       "  <thead>\n",
       "    <tr style=\"text-align: right;\">\n",
       "      <th></th>\n",
       "      <th>count</th>\n",
       "      <th>mean</th>\n",
       "      <th>std</th>\n",
       "      <th>min</th>\n",
       "      <th>25%</th>\n",
       "      <th>50%</th>\n",
       "      <th>75%</th>\n",
       "      <th>max</th>\n",
       "    </tr>\n",
       "    <tr>\n",
       "      <th>gluc</th>\n",
       "      <th></th>\n",
       "      <th></th>\n",
       "      <th></th>\n",
       "      <th></th>\n",
       "      <th></th>\n",
       "      <th></th>\n",
       "      <th></th>\n",
       "      <th></th>\n",
       "    </tr>\n",
       "  </thead>\n",
       "  <tbody>\n",
       "    <tr>\n",
       "      <th>1</th>\n",
       "      <td>429.0</td>\n",
       "      <td>125.895105</td>\n",
       "      <td>17.643555</td>\n",
       "      <td>12.0</td>\n",
       "      <td>120.0</td>\n",
       "      <td>120.0</td>\n",
       "      <td>140.0</td>\n",
       "      <td>180.0</td>\n",
       "    </tr>\n",
       "    <tr>\n",
       "      <th>2</th>\n",
       "      <td>27.0</td>\n",
       "      <td>131.481481</td>\n",
       "      <td>16.802862</td>\n",
       "      <td>110.0</td>\n",
       "      <td>120.0</td>\n",
       "      <td>130.0</td>\n",
       "      <td>140.0</td>\n",
       "      <td>180.0</td>\n",
       "    </tr>\n",
       "    <tr>\n",
       "      <th>3</th>\n",
       "      <td>32.0</td>\n",
       "      <td>127.187500</td>\n",
       "      <td>16.506963</td>\n",
       "      <td>90.0</td>\n",
       "      <td>120.0</td>\n",
       "      <td>120.0</td>\n",
       "      <td>130.0</td>\n",
       "      <td>170.0</td>\n",
       "    </tr>\n",
       "  </tbody>\n",
       "</table>\n",
       "</div>"
      ],
      "text/plain": [
       "      count        mean        std    min    25%    50%    75%    max\n",
       "gluc                                                                 \n",
       "1     429.0  125.895105  17.643555   12.0  120.0  120.0  140.0  180.0\n",
       "2      27.0  131.481481  16.802862  110.0  120.0  130.0  140.0  180.0\n",
       "3      32.0  127.187500  16.506963   90.0  120.0  120.0  130.0  170.0"
      ]
     },
     "execution_count": 33,
     "metadata": {},
     "output_type": "execute_result"
    }
   ],
   "source": [
    "df.groupby(\"gluc\").describe()[\"ap_hi\"]"
   ]
  },
  {
   "cell_type": "markdown",
   "id": "6vx5akalnpn3",
   "metadata": {
    "id": "6vx5akalnpn3"
   },
   "source": [
    "⭐Conduct the relavant statistical test to see if there is a significant difference betweenthe groups."
   ]
  },
  {
   "cell_type": "code",
   "execution_count": 34,
   "id": "f63c6ce5",
   "metadata": {
    "colab": {
     "base_uri": "https://localhost:8080/"
    },
    "executionInfo": {
     "elapsed": 307,
     "status": "ok",
     "timestamp": 1673273069197,
     "user": {
      "displayName": "Richard Thames",
      "userId": "00258987493291873022"
     },
     "user_tz": -180
    },
    "id": "f63c6ce5",
    "outputId": "a7b09bf2-f5dd-4423-927f-3873229156b6"
   },
   "outputs": [
    {
     "data": {
      "text/plain": [
       "F_onewayResult(statistic=1.3349612801410242, pvalue=0.2641336028455026)"
      ]
     },
     "execution_count": 34,
     "metadata": {},
     "output_type": "execute_result"
    }
   ],
   "source": [
    "stats.f_oneway(df[df[\"gluc\"]==1][\"ap_hi\"],\n",
    "               df[df[\"gluc\"]==2][\"ap_hi\"],\n",
    "               df[df[\"gluc\"]==3][\"ap_hi\"])"
   ]
  },
  {
   "cell_type": "code",
   "execution_count": 35,
   "id": "O2D9YBfLhS-K",
   "metadata": {
    "id": "O2D9YBfLhS-K"
   },
   "outputs": [],
   "source": [
    "# Large p value suggests us fail to reject Ho. All means are, equal."
   ]
  },
  {
   "cell_type": "code",
   "execution_count": 36,
   "id": "f5c3bb28",
   "metadata": {
    "colab": {
     "base_uri": "https://localhost:8080/"
    },
    "executionInfo": {
     "elapsed": 266,
     "status": "ok",
     "timestamp": 1673273088896,
     "user": {
      "displayName": "Richard Thames",
      "userId": "00258987493291873022"
     },
     "user_tz": -180
    },
    "id": "f5c3bb28",
    "outputId": "0e328896-7832-4bbc-8478-c61bc1f63759"
   },
   "outputs": [
    {
     "name": "stdout",
     "output_type": "stream",
     "text": [
      " Multiple Comparison of Means - Tukey HSD, FWER=0.05 \n",
      "=====================================================\n",
      "group1 group2 meandiff p-adj   lower    upper  reject\n",
      "-----------------------------------------------------\n",
      "     1      2   5.5864  0.244  -2.5901 13.7628  False\n",
      "     1      3   1.2924 0.9147  -6.2592   8.844  False\n",
      "     2      3   -4.294 0.6169 -15.0627  6.4747  False\n",
      "-----------------------------------------------------\n",
      "Unique gluc groups: [1 2 3]\n"
     ]
    }
   ],
   "source": [
    "from statsmodels.stats.multicomp import pairwise_tukeyhsd, MultiComparison\n",
    "\n",
    "# compare the height between each diet, using 95% confidence interval \n",
    "mc = MultiComparison(df['ap_hi'], df['gluc'])\n",
    "tukey_result = mc.tukeyhsd(alpha=0.05)\n",
    "\n",
    "print(tukey_result)\n",
    "print('Unique gluc groups: {}'.format(mc.groupsunique))"
   ]
  },
  {
   "cell_type": "code",
   "execution_count": null,
   "id": "xH5o52yqiN5j",
   "metadata": {
    "id": "xH5o52yqiN5j"
   },
   "outputs": [],
   "source": [
    "# Fail to reject Ho. Means are same."
   ]
  },
  {
   "cell_type": "markdown",
   "id": "d128793f",
   "metadata": {
    "id": "d128793f"
   },
   "source": [
    "## Task-4. Is There a Relationship Between Physical activity vs. Presence or absence of cardiovascular disease?"
   ]
  },
  {
   "cell_type": "markdown",
   "id": "9d0cbaf7",
   "metadata": {
    "id": "9d0cbaf7"
   },
   "source": [
    "### Physical activity vs. Presence or absence of cardiovascular disease"
   ]
  },
  {
   "cell_type": "markdown",
   "id": "QfsEEewCadVd",
   "metadata": {
    "id": "QfsEEewCadVd"
   },
   "source": [
    "⭐Create a crosstab using Pandas."
   ]
  },
  {
   "cell_type": "code",
   "execution_count": 47,
   "id": "vSrj0qSy7csO",
   "metadata": {
    "executionInfo": {
     "elapsed": 236,
     "status": "ok",
     "timestamp": 1673273134455,
     "user": {
      "displayName": "Richard Thames",
      "userId": "00258987493291873022"
     },
     "user_tz": -180
    },
    "id": "vSrj0qSy7csO"
   },
   "outputs": [],
   "source": [
    "# Ho: The two categorical variables are independent.\n",
    "# H1: The two categorical variables are dependent."
   ]
  },
  {
   "cell_type": "code",
   "execution_count": 37,
   "id": "c65b89ba",
   "metadata": {
    "colab": {
     "base_uri": "https://localhost:8080/",
     "height": 143
    },
    "executionInfo": {
     "elapsed": 6,
     "status": "ok",
     "timestamp": 1673273135466,
     "user": {
      "displayName": "Richard Thames",
      "userId": "00258987493291873022"
     },
     "user_tz": -180
    },
    "id": "c65b89ba",
    "outputId": "61d88027-d2ca-4c06-8a02-7d9e4576c387"
   },
   "outputs": [
    {
     "data": {
      "text/html": [
       "<div>\n",
       "<style scoped>\n",
       "    .dataframe tbody tr th:only-of-type {\n",
       "        vertical-align: middle;\n",
       "    }\n",
       "\n",
       "    .dataframe tbody tr th {\n",
       "        vertical-align: top;\n",
       "    }\n",
       "\n",
       "    .dataframe thead th {\n",
       "        text-align: right;\n",
       "    }\n",
       "</style>\n",
       "<table border=\"1\" class=\"dataframe\">\n",
       "  <thead>\n",
       "    <tr style=\"text-align: right;\">\n",
       "      <th>cardio</th>\n",
       "      <th>0</th>\n",
       "      <th>1</th>\n",
       "    </tr>\n",
       "    <tr>\n",
       "      <th>active</th>\n",
       "      <th></th>\n",
       "      <th></th>\n",
       "    </tr>\n",
       "  </thead>\n",
       "  <tbody>\n",
       "    <tr>\n",
       "      <th>0</th>\n",
       "      <td>55</td>\n",
       "      <td>60</td>\n",
       "    </tr>\n",
       "    <tr>\n",
       "      <th>1</th>\n",
       "      <td>197</td>\n",
       "      <td>176</td>\n",
       "    </tr>\n",
       "  </tbody>\n",
       "</table>\n",
       "</div>"
      ],
      "text/plain": [
       "cardio    0    1\n",
       "active          \n",
       "0        55   60\n",
       "1       197  176"
      ]
     },
     "execution_count": 37,
     "metadata": {},
     "output_type": "execute_result"
    }
   ],
   "source": [
    "ct = pd.crosstab(df.active, df.cardio)\n",
    "ct"
   ]
  },
  {
   "cell_type": "markdown",
   "id": "BHkX6Cdhn-cU",
   "metadata": {
    "id": "BHkX6Cdhn-cU"
   },
   "source": [
    "⭐Conduct chi-square test to see if there is a relationship between 2 categorical variables."
   ]
  },
  {
   "cell_type": "code",
   "execution_count": 38,
   "id": "d4bbe141",
   "metadata": {
    "colab": {
     "base_uri": "https://localhost:8080/"
    },
    "executionInfo": {
     "elapsed": 257,
     "status": "ok",
     "timestamp": 1673273139034,
     "user": {
      "displayName": "Richard Thames",
      "userId": "00258987493291873022"
     },
     "user_tz": -180
    },
    "id": "d4bbe141",
    "outputId": "91ea862a-d52e-4615-b60d-aa4bbc5de63c"
   },
   "outputs": [
    {
     "name": "stdout",
     "output_type": "stream",
     "text": [
      "statistic: 0.6876655564420912\n",
      "p value: 0.406959548277278\n"
     ]
    }
   ],
   "source": [
    "chi, p, dof, expctd = stats.chi2_contingency(ct)\n",
    "print(\"statistic:\", chi)\n",
    "print(\"p value:\", p)"
   ]
  },
  {
   "cell_type": "code",
   "execution_count": 39,
   "id": "jkfCqErA7Bz7",
   "metadata": {
    "colab": {
     "base_uri": "https://localhost:8080/"
    },
    "executionInfo": {
     "elapsed": 252,
     "status": "ok",
     "timestamp": 1673273144822,
     "user": {
      "displayName": "Richard Thames",
      "userId": "00258987493291873022"
     },
     "user_tz": -180
    },
    "id": "jkfCqErA7Bz7",
    "outputId": "f036e79b-7381-4cfe-b96a-8a661f19c7d2"
   },
   "outputs": [
    {
     "name": "stdout",
     "output_type": "stream",
     "text": [
      "stat=0.688, p=0.4070\n",
      "Fail to reject Ho\n"
     ]
    }
   ],
   "source": [
    "print('stat=%.3f, p=%.4f' % (chi, p))\n",
    "if p > 0.05:\n",
    "\tprint('Fail to reject Ho')\n",
    "else:\n",
    "\tprint('We reject the null hypothesis. The two categorical variables are dependent')"
   ]
  },
  {
   "cell_type": "markdown",
   "id": "NWNxm6RU8kRp",
   "metadata": {
    "id": "NWNxm6RU8kRp"
   },
   "source": [
    "⭐Conduct chi-square test to see if there is a relationship between Cholesterol and cardio"
   ]
  },
  {
   "cell_type": "code",
   "execution_count": 40,
   "id": "559790fa",
   "metadata": {
    "colab": {
     "base_uri": "https://localhost:8080/",
     "height": 175
    },
    "executionInfo": {
     "elapsed": 241,
     "status": "ok",
     "timestamp": 1673273157814,
     "user": {
      "displayName": "Richard Thames",
      "userId": "00258987493291873022"
     },
     "user_tz": -180
    },
    "id": "559790fa",
    "outputId": "5240d393-2e36-4574-fcc4-8a111580817c"
   },
   "outputs": [
    {
     "data": {
      "text/html": [
       "<div>\n",
       "<style scoped>\n",
       "    .dataframe tbody tr th:only-of-type {\n",
       "        vertical-align: middle;\n",
       "    }\n",
       "\n",
       "    .dataframe tbody tr th {\n",
       "        vertical-align: top;\n",
       "    }\n",
       "\n",
       "    .dataframe thead th {\n",
       "        text-align: right;\n",
       "    }\n",
       "</style>\n",
       "<table border=\"1\" class=\"dataframe\">\n",
       "  <thead>\n",
       "    <tr style=\"text-align: right;\">\n",
       "      <th>cardio</th>\n",
       "      <th>0</th>\n",
       "      <th>1</th>\n",
       "    </tr>\n",
       "    <tr>\n",
       "      <th>cholesterol</th>\n",
       "      <th></th>\n",
       "      <th></th>\n",
       "    </tr>\n",
       "  </thead>\n",
       "  <tbody>\n",
       "    <tr>\n",
       "      <th>1</th>\n",
       "      <td>210</td>\n",
       "      <td>163</td>\n",
       "    </tr>\n",
       "    <tr>\n",
       "      <th>2</th>\n",
       "      <td>32</td>\n",
       "      <td>35</td>\n",
       "    </tr>\n",
       "    <tr>\n",
       "      <th>3</th>\n",
       "      <td>10</td>\n",
       "      <td>38</td>\n",
       "    </tr>\n",
       "  </tbody>\n",
       "</table>\n",
       "</div>"
      ],
      "text/plain": [
       "cardio         0    1\n",
       "cholesterol          \n",
       "1            210  163\n",
       "2             32   35\n",
       "3             10   38"
      ]
     },
     "execution_count": 40,
     "metadata": {},
     "output_type": "execute_result"
    }
   ],
   "source": [
    "ct = pd.crosstab(df.cholesterol, df.cardio)\n",
    "ct"
   ]
  },
  {
   "cell_type": "code",
   "execution_count": 41,
   "id": "5105746b",
   "metadata": {
    "colab": {
     "base_uri": "https://localhost:8080/"
    },
    "executionInfo": {
     "elapsed": 236,
     "status": "ok",
     "timestamp": 1673273162974,
     "user": {
      "displayName": "Richard Thames",
      "userId": "00258987493291873022"
     },
     "user_tz": -180
    },
    "id": "5105746b",
    "outputId": "c08cf1ac-7f20-40f6-f581-6941a831fe33"
   },
   "outputs": [
    {
     "name": "stdout",
     "output_type": "stream",
     "text": [
      "statistic: 21.888853614778675\n",
      "p value: 1.765614268966816e-05\n"
     ]
    }
   ],
   "source": [
    "chi, p, dof, expctd = stats.chi2_contingency(ct)\n",
    "print(\"statistic:\", chi)\n",
    "print(\"p value:\", p)"
   ]
  },
  {
   "cell_type": "code",
   "execution_count": 42,
   "id": "mY3VAJkg8zF1",
   "metadata": {
    "colab": {
     "base_uri": "https://localhost:8080/"
    },
    "executionInfo": {
     "elapsed": 249,
     "status": "ok",
     "timestamp": 1673273165486,
     "user": {
      "displayName": "Richard Thames",
      "userId": "00258987493291873022"
     },
     "user_tz": -180
    },
    "id": "mY3VAJkg8zF1",
    "outputId": "e08dfc23-d67d-4aee-ab71-1152d7c555f1"
   },
   "outputs": [
    {
     "name": "stdout",
     "output_type": "stream",
     "text": [
      "stat=21.889, p=0.0000\n",
      "We reject the null hypothesis. The two categorical variables are dependent\n"
     ]
    }
   ],
   "source": [
    "print('stat=%.3f, p=%.4f' % (chi, p))\n",
    "if p > 0.05:\n",
    "\tprint('Fail to reject Ho')\n",
    "else:\n",
    "\tprint('We reject the null hypothesis. The two categorical variables are dependent')"
   ]
  }
 ],
 "metadata": {
  "colab": {
   "provenance": []
  },
  "kernelspec": {
   "display_name": "Python 3 (ipykernel)",
   "language": "python",
   "name": "python3"
  },
  "language_info": {
   "codemirror_mode": {
    "name": "ipython",
    "version": 3
   },
   "file_extension": ".py",
   "mimetype": "text/x-python",
   "name": "python",
   "nbconvert_exporter": "python",
   "pygments_lexer": "ipython3",
   "version": "3.9.13"
  }
 },
 "nbformat": 4,
 "nbformat_minor": 5
}
